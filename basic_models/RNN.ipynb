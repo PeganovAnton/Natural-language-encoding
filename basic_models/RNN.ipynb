{
 "cells": [
  {
   "cell_type": "code",
   "execution_count": 1,
   "metadata": {
    "collapsed": false
   },
   "outputs": [],
   "source": [
    "# These are all the modules we'll be using later. Make sure you can import them\n",
    "# before proceeding further.\n",
    "from __future__ import print_function\n",
    "import numpy as np\n",
    "import random\n",
    "import string\n",
    "import tensorflow as tf\n",
    "from tensorflow.python.ops.rnn_cell import _linear\n",
    "import zipfile\n",
    "from six.moves import range\n",
    "from six.moves.urllib.request import urlretrieve\n",
    "import collections\n",
    "import matplotlib.pyplot as plt\n",
    "import codecs\n",
    "import time\n",
    "import os\n",
    "import gc\n",
    "from six.moves import cPickle as pickle\n",
    "\n",
    "from plot_module import text_plot\n",
    "from plot_module import structure_vocabulary_plots\n",
    "from plot_module import ComparePlots\n",
    "\n",
    "from model_module import maybe_download\n",
    "from model_module import read_data\n",
    "from model_module import check_not_one_byte\n",
    "from model_module import id2char\n",
    "from model_module import char2id\n",
    "from model_module import BatchGenerator\n",
    "from model_module import characters\n",
    "from model_module import batches2string\n",
    "from model_module import logprob\n",
    "from model_module import sample_distribution\n",
    "from model_module import MODEL"
   ]
  },
  {
   "cell_type": "code",
   "execution_count": 2,
   "metadata": {
    "collapsed": false
   },
   "outputs": [
    {
     "name": "stdout",
     "output_type": "stream",
     "text": [
      "number of not one byte characters:  0\n",
      "min order index:  9\n",
      "max order index:  255\n",
      "total number of characters:  196\n"
     ]
    }
   ],
   "source": [
    "if not os.path.exists('enwik8_filtered'):\n",
    "    if not os.path.exists('enwik8'):\n",
    "        filename = maybe_download('enwik8.zip', 36445475)\n",
    "    full_text = read_data(filename)\n",
    "    new_text = u\"\"\n",
    "    new_text_list = list()\n",
    "    for i in range(len(full_text)):\n",
    "        if (i+1) % 10000000 == 0:\n",
    "            print(\"%s characters are filtered\" % i)\n",
    "        if ord(full_text[i]) < 256:\n",
    "            new_text_list.append(full_text[i])\n",
    "    text = new_text.join(new_text_list)\n",
    "    del new_text_list\n",
    "    del new_text\n",
    "    del full_text\n",
    "\n",
    "    (not_one_byte_counter, min_character_order_index, max_character_order_index, number_of_characters, present_characters_indices) = check_not_one_byte(text)\n",
    "\n",
    "    print(\"number of not one byte characters: \", not_one_byte_counter) \n",
    "    print(\"min order index: \", min_character_order_index)\n",
    "    print(\"max order index: \", max_character_order_index)\n",
    "    print(\"total number of characters: \", number_of_characters)\n",
    "    \n",
    "    f = open('enwik8_filtered', 'w')\n",
    "    f.write(text.encode('utf8'))\n",
    "    f.close()\n",
    "    \n",
    "else:\n",
    "    f = open('enwik8_filtered', 'r')\n",
    "    text = f.read().decode('utf8')\n",
    "    f.close() \n",
    "    (not_one_byte_counter, min_character_order_index, max_character_order_index, number_of_characters, present_characters_indices) = check_not_one_byte(text)\n",
    "\n",
    "    print(\"number of not one byte characters: \", not_one_byte_counter) \n",
    "    print(\"min order index: \", min_character_order_index)\n",
    "    print(\"max order index: \", max_character_order_index)\n",
    "    print(\"total number of characters: \", number_of_characters)    "
   ]
  },
  {
   "cell_type": "code",
   "execution_count": 3,
   "metadata": {
    "collapsed": false
   },
   "outputs": [
    {
     "name": "stdout",
     "output_type": "stream",
     "text": [
      "99350000 n in the February 1934 riots, anarchists divided over a 'united \n",
      "10000 ture in Mutual Aid: A Factor of Evolution (1897). Subsequent ana\n"
     ]
    }
   ],
   "source": [
    "#different\n",
    "offset = 20000\n",
    "valid_size = 10000\n",
    "valid_text = text[offset:offset+valid_size]\n",
    "train_text = text[offset+valid_size:]\n",
    "train_size = len(train_text)\n",
    "print(train_size, train_text[:64])\n",
    "print(valid_size, valid_text[:64])"
   ]
  },
  {
   "cell_type": "code",
   "execution_count": 4,
   "metadata": {
    "collapsed": false
   },
   "outputs": [
    {
     "name": "stdout",
     "output_type": "stream",
     "text": [
      "Vocabulary:  \t\n",
      " !\"#$%&'()*+,-./0123456789:;<=>?@ABCDEFGHIJKLMNOPQRSTUVWXYZ[\\]^_`abcdefghijklmnopqrstuvwxyz{|}~ ¡¢£¤¥¦§¨©ª«¬­®¯°±²³´µ¶·¸¹º»¼½¾¿ÀÁÂÃÄÅÆÇÈÉÊËÌÍÎÏÐÑÒÓÔÕÖ×ØÙÚÛÜÝÞßàáâãäåæçèéêëìíîïðñòóôõö÷øùúûüýþÿ\n",
      "char2id(u'a') = 67,  char2id(u'z') = 92,  char2id(u' ') = 2\n",
      "id2char(78) = l,  id2char(156) = Ø,  id2char(140) = È\n"
     ]
    }
   ],
   "source": [
    "vocabulary_size = number_of_characters\n",
    "vocabulary = list()\n",
    "characters_positions_in_vocabulary = list()\n",
    "\n",
    "character_position_in_vocabulary = 0\n",
    "for i in range(256):\n",
    "    if present_characters_indices[i]:\n",
    "        vocabulary.append(unichr(i))\n",
    "        characters_positions_in_vocabulary.append(character_position_in_vocabulary)\n",
    "        character_position_in_vocabulary += 1\n",
    "    else:\n",
    "        characters_positions_in_vocabulary.append(-1)\n",
    "\n",
    "\n",
    "string_vocabulary = u\"\"\n",
    "for i in range(vocabulary_size):\n",
    "    string_vocabulary += vocabulary[i]\n",
    "print(\"Vocabulary: \", string_vocabulary)\n",
    "print(\"char2id(u'a') = %s,  char2id(u'z') = %s,  char2id(u' ') = %s\" % (char2id(u'a', characters_positions_in_vocabulary),\n",
    "                                                                        char2id(u'z', characters_positions_in_vocabulary),\n",
    "                                                                        char2id(u' ', characters_positions_in_vocabulary)))\n",
    "print(\"id2char(78) = %s,  id2char(156) = %s,  id2char(140) = %s\" % (id2char(78,\n",
    "                                                                            vocabulary),\n",
    "                                                                    id2char(156,\n",
    "                                                                            vocabulary),\n",
    "                                                                    id2char(140,\n",
    "                                                                            vocabulary)))\n"
   ]
  },
  {
   "cell_type": "code",
   "execution_count": 5,
   "metadata": {
    "collapsed": false
   },
   "outputs": [
    {
     "name": "stdout",
     "output_type": "stream",
     "text": [
      "[u'n in the Fe', u\".\\n* ''[[Con\", u\"oldier's so\", u'\\xf6hm-Bawerk ', u'tification,', u' warrior, a', u'uot; would ', u' 115       ', u'orbata acid', u'>\\n      <co', u'ate, the co', u'other natio', u'ing the his', u'et bromine;', u' Christ&quo', u' average]] ', u' their home', u'ks and a ri', u'on]]/[[Joel', u' new era fo', u'aph that th', u' known as t', u's from the ', u'ast majorit', u'trips, thou', u'ent of regi', u'metric aspe', u'd named by ', u'Z</timestam', u'tude of 1 c', u'!&quot; [ht', u'o ==\\n\\n* [[D', u'[[Belarusia', u'iton]], Rus', u'ccessful si', u'es his theo', u' explain th', u' the South.', u'sing with a', u'd ball is h', u'e could des', u'[Friedrich ', u'th virtuall', u' foreign ac', u'variant in ', u'd and watch', u\"t; ''[[Foot\", u' became Lea', u'stern Europ', u' </contribu', u'ese terms n', u'arting in t', u'gence of th', u'of the cons', u'uickly swit', u', thus star', u'lly develop', u'g the offic', u'esult, the ', u'red HMMWV. ', u'ament is de', u'University ', u'&quot;&gt;1', u'solely deco']\n",
      "[u'ebruary 193', u'ncentrate (', u'ong.\\n\\n==Com', u' wrote exte', u', when used', u'and elder h', u' have had o', u'        Sas', u'do]]\\n[[fa: ', u'omment>fix<', u'ombined sal', u'ons who fol', u'story of th', u'; however, ', u'ot; (Mosiah', u' of .847 wa', u'e field [[O', u'idge of fur', u'l Schumache', u'or Battle.n', u'he animator', u'the [[Pacif', u' local [[co', u'ty of execu', u'ugh several', u'istrars, de', u'ects will b', u' [[Bede]] i', u'mp>\\n      <', u'centimetre.', u'ttp://www.e', u'Derivative ', u'an language', u'ssian physi', u'ingles to d', u'ory (ISBN 0', u'he ability ', u'. He was of', u'a synthesiz', u'his last co', u'scribe as e', u' von Wieser', u'ly no-one t', u'ctors or th', u' the first ', u'hed it grow', u'tball World', u'ader of the', u'pe, many of', u'utor>\\n     ', u'not only de', u'the mid-198', u'his scene (', u'spirators]]', u'tched from ', u'rting the S', u'ped than Ma', u'ces of [[Ea', u' leaders of', u' The M1114 ', u'eemed incom', u' System]]\\n*', u'14,772&lt;/', u'orative. Th']\n",
      "[u'tu']\n",
      "[u'ur']\n"
     ]
    }
   ],
   "source": [
    "batch_size_test=64\n",
    "num_unrollings_test=10\n",
    "\n",
    "train_batches_test = BatchGenerator(train_text,\n",
    "                                    batch_size_test,\n",
    "                                    vocabulary_size,\n",
    "                                    characters_positions_in_vocabulary,\n",
    "                                    num_unrollings_test)\n",
    "valid_batches_test = BatchGenerator(valid_text,\n",
    "                                    1,\n",
    "                                    vocabulary_size,\n",
    "                                    characters_positions_in_vocabulary,\n",
    "                                    1)\n",
    "\n",
    "print(batches2string(train_batches_test.next(), vocabulary))\n",
    "print(batches2string(train_batches_test.next(), vocabulary))\n",
    "print(batches2string(valid_batches_test.next(), vocabulary))\n",
    "print(batches2string(valid_batches_test.next(), vocabulary))"
   ]
  },
  {
   "cell_type": "code",
   "execution_count": 11,
   "metadata": {
    "collapsed": false
   },
   "outputs": [],
   "source": [
    "indices_GL = {\"batch_size\": 0,\n",
    "              \"num_unrollings\": 1,\n",
    "              \"num_layers\": 2,\n",
    "              \"num_nodes\": 3,\n",
    "              \"half_life\": 4,\n",
    "              \"decay\": 5,\n",
    "              \"num_steps\": 6,\n",
    "              \"averaging_number\": 7,\n",
    "              \"type\": 8}\n",
    "\n",
    "\n",
    "class RNN(MODEL):\n",
    "    def layer(self, \n",
    "              inp_t,\n",
    "              state_t_minus_1,\n",
    "              layer_num):\n",
    "        X_t = tf.concat(1, [inp_t,\n",
    "                            state_t_minus_1])\n",
    "        RES = tf.matmul(X_t, self.Matrices[layer_num]) + self.Biases[layer_num]\n",
    "        state_t = tf.tanh(RES)\n",
    "        return state_t\n",
    "\n",
    "    \n",
    "    def iteration(self, inp, state):\n",
    "        num_layers = len(state)\n",
    "        new_state = list()\n",
    "        inter_state = self.layer(inp,\n",
    "                                 state[0],\n",
    "                                 0)\n",
    "        new_state.append(inter_state)\n",
    "        if num_layers > 1:\n",
    "            for i in range(num_layers-1):\n",
    "                inter_state = self.layer(inter_state,\n",
    "                                         state[i+1],\n",
    "                                         i+1)\n",
    "                new_state.append(inter_state)\n",
    "        return inter_state, new_state\n",
    "    \n",
    "    def __init__(self,\n",
    "                 batch_size,\n",
    "                 vocabulary,\n",
    "                 characters_positions_in_vocabulary,\n",
    "                 num_unrollings,\n",
    "                 num_layers,\n",
    "                 num_nodes,\n",
    "                 train_text,\n",
    "                 valid_text,\n",
    "                 mean=0.,\n",
    "                 stddev='default',\n",
    "                 shift=0.,\n",
    "                 init_learning_rate=0.5):\n",
    "        self._results = list()\n",
    "        self._batch_size = batch_size\n",
    "        self._vocabulary = vocabulary\n",
    "        self._vocabulary_size = len(vocabulary)\n",
    "        self._characters_positions_in_vocabulary = characters_positions_in_vocabulary\n",
    "        self._num_unrollings = num_unrollings\n",
    "        self._num_layers = num_layers\n",
    "        self._num_nodes = num_nodes\n",
    "        self._train_text = train_text\n",
    "        self._valid_text = valid_text\n",
    "        self._valid_size = len(valid_text)\n",
    "        \n",
    "        self._mean = mean\n",
    "        \n",
    "        self._stddev = list()\n",
    "        if stddev == 'default':\n",
    "            self._stddev.append(1.0 * np.sqrt(1./(num_nodes[0] + vocabulary_size)))\n",
    "            for i in range(num_layers-1):\n",
    "                self._stddev.append(1.0 * np.sqrt(1./(num_nodes[i+1] + num_nodes[i])))\n",
    "        else:\n",
    "            self._stddev = [stddev for _ in range(num_layers)]\n",
    "            \n",
    "        self._shift = shift\n",
    "        self._init_learning_rate = init_learning_rate\n",
    "        \n",
    "        self._indices = {\"batch_size\": 0,\n",
    "                         \"num_unrollings\": 1,\n",
    "                         \"num_layers\": 2,\n",
    "                         \"num_nodes\": 3,\n",
    "                         \"half_life\": 4,\n",
    "                         \"decay\": 5,\n",
    "                         \"num_steps\": 6,\n",
    "                         \"averaging_number\": 7,\n",
    "                         \"init_mean\": 8,\n",
    "                         \"init_stddev\": 9,\n",
    "                         \"init_shift\": 10,\n",
    "                         \"init_learning_rate\": 11,\n",
    "                         \"type\": 12}\n",
    "        self._graph = tf.Graph()\n",
    "        \n",
    "        self._last_num_steps = 0\n",
    "        with self._graph.as_default(): \n",
    "            with self._graph.device('/gpu:0'): \n",
    "                self.Matrices = list()\n",
    "                self.Biases = list()\n",
    "                self.Matrices.append(tf.Variable(tf.truncated_normal([self._vocabulary_size + self._num_nodes[0],\n",
    "                                                                      self._num_nodes[0]],\n",
    "                                                                     mean=self._mean, stddev=self._stddev[0])))\n",
    "                self.Biases.append(tf.Variable([self._shift for _ in range(self._num_nodes[0])]))\n",
    "                if self._num_layers > 1:\n",
    "                    for i in range(self._num_layers - 1):\n",
    "                        self.Matrices.append(tf.Variable(tf.truncated_normal([self._num_nodes[i] + self._num_nodes[i+1],\n",
    "                                                                              self._num_nodes[i+1]],\n",
    "                                                                             mean=self._mean, stddev=self._stddev[i+1])))\n",
    "                        self.Biases.append(tf.Variable([self._shift for _ in range(self._num_nodes[i+1])]))\n",
    "\n",
    "\n",
    "                # classifier \n",
    "                weights = tf.Variable(tf.truncated_normal([self._num_nodes[-1], self._vocabulary_size],\n",
    "                                                          mean=self._mean,\n",
    "                                                          stddev=0.1))\n",
    "                bias = tf.Variable(tf.zeros([self._vocabulary_size]))\n",
    "                \n",
    "                \"\"\"PLACEHOLDERS train data\"\"\"\n",
    "                self._train_data = list()\n",
    "                for _ in range(self._num_unrollings + 1):\n",
    "                    self._train_data.append(\n",
    "                        tf.placeholder(tf.float32, shape=[self._batch_size, self._vocabulary_size]))\n",
    "                train_inputs = self._train_data[: self._num_unrollings]\n",
    "                train_labels = self._train_data[1:]  # labels are inputs shifted by one time step.\n",
    "                # Unrolled LSTM loop.\n",
    "\n",
    "                saved_state = list()\n",
    "                for i in range(self._num_layers):\n",
    "                    saved_state.append(tf.Variable(tf.zeros([self._batch_size, self._num_nodes[i]]), trainable=False))\n",
    "\n",
    "                outputs = list()\n",
    "                first_inputs = list()\n",
    "                first_outputs = list()\n",
    "                state = saved_state\n",
    "                for i in train_inputs:\n",
    "                    output, state = self.iteration(i, state)\n",
    "                    outputs.append(output)\n",
    "                    first_inputs.append(tf.split(0, self._batch_size, i)[0])\n",
    "                    first_outputs.append(tf.split(0, self._batch_size, output)[0])\n",
    "\n",
    "                self.first_inputs = tf.concat(0, first_inputs)\n",
    "                self.first_outputs = tf.nn.softmax(tf.nn.xw_plus_b(tf.concat(0, first_outputs), weights, bias))\n",
    "                save_list = list()\n",
    "                for i in range(self._num_layers):\n",
    "                    save_list.append(saved_state[i].assign(state[i]))\n",
    "                \n",
    "                \"\"\"skip operation\"\"\"\n",
    "                self._skip_operation = tf.group(*save_list)\n",
    "\n",
    "                with tf.control_dependencies(save_list):\n",
    "                        # Classifier.\n",
    "                    logits = tf.nn.xw_plus_b(tf.concat(0, outputs), weights, bias)\n",
    "                    \"\"\"loss\"\"\"\n",
    "                    self._loss = tf.reduce_mean(\n",
    "                        tf.nn.softmax_cross_entropy_with_logits(\n",
    "                        logits, tf.concat(0, train_labels)))\n",
    "                # Optimizer.\n",
    "                self._global_step = tf.Variable(0)\n",
    "                \"\"\"PLACEHOLDERS half life and decay\"\"\"\n",
    "                self._half_life = tf.placeholder(tf.int32)\n",
    "                self._decay = tf.placeholder(tf.float32)\n",
    "                \"\"\"learning rate\"\"\"\n",
    "                self._learning_rate = tf.train.exponential_decay(self._init_learning_rate,\n",
    "                                                                 self._global_step,\n",
    "                                                                 self._half_life,\n",
    "                                                                 self._decay,\n",
    "                                                                 staircase=True)\n",
    "                optimizer = tf.train.GradientDescentOptimizer(self._learning_rate)\n",
    "                gradients, v = zip(*optimizer.compute_gradients(self._loss))\n",
    "                gradients, _ = tf.clip_by_global_norm(gradients, 1.25)\n",
    "                \"\"\"optimizer\"\"\"\n",
    "                self._optimizer = optimizer.apply_gradients(zip(gradients, v), global_step=self._global_step)\n",
    "                \"\"\"train prediction\"\"\"\n",
    "                self._train_prediction = tf.nn.softmax(logits)\n",
    "\n",
    "                # Sampling and validation eval: batch 1, no unrolling.\n",
    "                saved_sample_state = list()\n",
    "                for i in range(self._num_layers):\n",
    "                    saved_sample_state.append(tf.Variable(tf.zeros([1, self._num_nodes[i]]), trainable=False)) \n",
    "                \"\"\"PLACEHOLDER sample input\"\"\"\n",
    "                self._sample_input = tf.placeholder(tf.float32, shape=[1, self._vocabulary_size])\n",
    "\n",
    "                reset_list = list()\n",
    "                for i in range(self._num_layers):\n",
    "                    reset_list.append(saved_sample_state[i].assign(tf.zeros([1, self._num_nodes[i]])))\n",
    "\n",
    "                \"\"\"reset sample state\"\"\"\n",
    "                self._reset_sample_state = tf.group(*reset_list)\n",
    "\n",
    "                sample_output, sample_state = self.iteration(self._sample_input, saved_sample_state)\n",
    "\n",
    "                sample_save_list = list()\n",
    "                for i in range(self._num_layers):\n",
    "                    sample_save_list.append(saved_sample_state[i].assign(sample_state[i]))\n",
    "\n",
    "                with tf.control_dependencies(sample_save_list):\n",
    "                    \"\"\"sample prediction\"\"\"\n",
    "                    self._sample_prediction = tf.nn.softmax(tf.nn.xw_plus_b(sample_output, weights, bias)) \n",
    "                \n",
    "                \n",
    "                \"\"\"saver\"\"\"\n",
    "                self.saver = tf.train.Saver(max_to_keep=None)\n",
    "                            \n",
    "                        \n",
    "    \n",
    "    def _generate_metadata(self, half_life, decay, num_averaging_iterations):\n",
    "        metadata = list()\n",
    "        metadata.append(self._batch_size)\n",
    "        metadata.append(self._num_unrollings)\n",
    "        metadata.append(self._num_layers)\n",
    "        metadata.append(self._num_nodes)\n",
    "        metadata.append(half_life)\n",
    "        metadata.append(decay)\n",
    "        metadata.append(self._last_num_steps)\n",
    "        metadata.append(num_averaging_iterations)\n",
    "        metadata.append(self._mean)\n",
    "        metadata.append(self._stddev)\n",
    "        metadata.append(self._shift)\n",
    "        metadata.append(self._init_learning_rate)\n",
    "        metadata.append('rnn')\n",
    "        return metadata\n",
    "  "
   ]
  },
  {
   "cell_type": "code",
   "execution_count": 12,
   "metadata": {
    "collapsed": false
   },
   "outputs": [],
   "source": [
    "model = RNN(64,\n",
    "            vocabulary,\n",
    "            characters_positions_in_vocabulary,\n",
    "            10,\n",
    "            1,\n",
    "            [96],\n",
    "            train_text,\n",
    "            valid_text,\n",
    "            init_learning_rate=1.)"
   ]
  },
  {
   "cell_type": "code",
   "execution_count": 13,
   "metadata": {
    "collapsed": false
   },
   "outputs": [
    {
     "name": "stdout",
     "output_type": "stream",
     "text": [
      "Initialized\n",
      "step: 0\n",
      "self.first_inputs: \n",
      "n in the F\n",
      "self.first_outputs: \n",
      "×ºÓDÀ!nígf\n",
      "Average loss at step 0: 5.272962 learning rate: 1.000000\n",
      "Percentage_of correct: 0.00%\n",
      "\n",
      "random:\n",
      "================================================================================\n",
      "9þrÿí:m2m>£XNd¸\\ª!3ô°U{â¥e¶zÖÞ_¸Q,¢h(lý&ú)E;¼ÎV~ðïVË_>0ÀèÛ_½p.KÞ 7ÍWÁ²*÷E³WËËµ¬ö\n",
      "_ÀBqï¤Ù1úæ æY=?î;òÞ¯N)}såäçHR®Ô\n",
      "ç¬çª÷iÞJÎíÃnQª\n",
      "Í( ö1±m!y¡ÍRÅ×0>ØBáÙÝ9y¡xçåâû»©\n",
      "5Ãhá·ÆcrÔßÄcÇyk5$Ëqi|6-RÃPw¡0ä×¼Ñ¾]M$nÜ¼éRC})Üµ4ÓF+ïoK×ÕÁÐ?k`Ô6(à8#ú'\n",
      "ú)6=§ÕØ\tm\n",
      "Æû:w\\°^ûÀÏÌPÌ8I7ÔF/×TJ{/ùgXÚ\t«pµóÊ6sªn]¬+»{Û&×:\tÔõ$ºOáMÚÅ®]Qàk]Rê1Ù£¾íïeýÍ0Îx)\n",
      "Pçe\\Í£¹Ú/0a¶ö2Þèôà=ÿZ¡¶ç_¾(EÑQ±Ø0'cÎÈxÏ%ô<£¸)[Æ@¿B¸y\n",
      "Å-JsJ_méBot?[ceÔáV£tdîmEæ\n",
      "================================================================================\n",
      "validation example (input and output):\n",
      "ture in Mu\n",
      "hºQ)`Sá(Ae\n",
      "Validation percentage of correct: 13.18%\n",
      "\n",
      "step: 200\n",
      "self.first_inputs: \n",
      "wever, the\n",
      "self.first_outputs: \n",
      "elh i \n",
      "eeË\n",
      "Average loss at step 200: 3.397835 learning rate: 1.000000\n",
      "Percentage_of correct: 16.99%\n",
      "validation example (input and output):\n",
      "ture in Mu\n",
      "\\mgaI[ecr:\n",
      "Validation percentage of correct: 21.17%\n",
      "\n",
      "step: 400\n",
      "self.first_inputs: \n",
      "[[Buddhist\n",
      "self.first_outputs: \n",
      "[ëmsý:enÉ|\n",
      "Average loss at step 400: 2.875284 learning rate: 1.000000\n",
      "Percentage_of correct: 25.52%\n",
      "validation example (input and output):\n",
      "ture in Mu\n",
      "bm- wo cfg\n",
      "Validation percentage of correct: 29.36%\n",
      "\n",
      "step: 600\n",
      "self.first_inputs: \n",
      "oltairine \n",
      "self.first_outputs: \n",
      "tu  s styt\n",
      "Average loss at step 600: 2.627419 learning rate: 1.000000\n",
      "Percentage_of correct: 30.33%\n",
      "validation example (input and output):\n",
      "ture in Mu\n",
      "hlissegaac\n",
      "Validation percentage of correct: 30.44%\n",
      "\n",
      "step: 800\n",
      "self.first_inputs: \n",
      "germinal f\n",
      "self.first_outputs: \n",
      "rra n.segf\n",
      "Average loss at step 800: 2.516884 learning rate: 1.000000\n",
      "Percentage_of correct: 32.10%\n",
      "validation example (input and output):\n",
      "ture in Mu\n",
      ";rc|&s tai\n",
      "Validation percentage of correct: 33.71%\n",
      "\n",
      "step: 1000\n",
      "self.first_inputs: \n",
      "e and Euro\n",
      "self.first_outputs: \n",
      "dsnn wiro \n",
      "Average loss at step 1000: 2.445409 learning rate: 0.900000\n",
      "Percentage_of correct: 33.10%\n",
      "validation example (input and output):\n",
      "ture in Mu\n",
      "ercaltnm t\n",
      "Validation percentage of correct: 34.28%\n",
      "\n",
      "step: 1200\n",
      "self.first_inputs: \n",
      "t anarchy \n",
      "self.first_outputs: \n",
      "rsrdbyo  t\n",
      "Average loss at step 1200: 2.397222 learning rate: 0.900000\n",
      "Percentage_of correct: 34.33%\n",
      "validation example (input and output):\n",
      "ture in Mu\n",
      "ieedvm tel\n",
      "Validation percentage of correct: 34.99%\n",
      "\n",
      "step: 1400\n",
      "self.first_inputs: \n",
      ". Nonethel\n",
      "self.first_outputs: \n",
      " ta a ia] \n",
      "Average loss at step 1400: 2.371546 learning rate: 0.900000\n",
      "Percentage_of correct: 35.53%\n",
      "validation example (input and output):\n",
      "ture in Mu\n",
      " nl pv [uv\n",
      "Validation percentage of correct: 34.86%\n",
      "\n",
      "step: 1600\n",
      "self.first_inputs: \n",
      "idea that \n",
      "self.first_outputs: \n",
      "nels(ues W\n",
      "Average loss at step 1600: 2.299467 learning rate: 0.900000\n",
      "Percentage_of correct: 36.97%\n",
      "validation example (input and output):\n",
      "ture in Mu\n",
      "hei]wsgtyd\n",
      "Validation percentage of correct: 35.73%\n",
      "\n",
      "step: 1800\n",
      "self.first_inputs: \n",
      "t proclivi\n",
      "self.first_outputs: \n",
      " heouk aen\n",
      "Average loss at step 1800: 2.320095 learning rate: 0.900000\n",
      "Percentage_of correct: 36.70%\n",
      "validation example (input and output):\n",
      "ture in Mu\n",
      "ornsWng[os\n",
      "Validation percentage of correct: 35.90%\n",
      "\n",
      "step: 2000\n",
      "self.first_inputs: \n",
      " informati\n",
      "self.first_outputs: \n",
      "slsusntltn\n",
      "Average loss at step 2000: 2.288753 learning rate: 0.810000\n",
      "Percentage_of correct: 37.72%\n",
      "\n",
      "random:\n",
      "================================================================================\n",
      "¼|I27)|\n",
      "|ItTrist 195 [[Is.:Aàrodey]]''upeations in of imma Jy. mmanimed aldy, [[\n",
      "ûrediry than Enojiofe Pat the Gnirtorida]], ''[[u5jilion Garal, Elicted if 9427)\n",
      "·s anghice or alt-cestarg Molerth dezer Houth erablacan bucil]]''A\\ter o  uthen&\n",
      "(Intite in chambritern\n",
      "\n",
      "* Pereve Arilecons:\n",
      "'''s, the cott morist]] anf melest c\n",
      "Melles are eal enubles were ow ecialt is foreged -ul, &quot;dispon sist]] hawher\n",
      "================================================================================\n",
      "validation example (input and output):\n",
      "ture in Mu\n",
      "hllmDn iet\n",
      "Validation percentage of correct: 36.05%\n",
      "\n",
      "step: 2200\n",
      "self.first_inputs: \n",
      "ists view \n",
      "self.first_outputs: \n",
      "mûe.aan cp\n",
      "Average loss at step 2200: 2.246275 learning rate: 0.810000\n",
      "Percentage_of correct: 38.58%\n",
      "validation example (input and output):\n",
      "ture in Mu\n",
      "lcosin tor\n",
      "Validation percentage of correct: 35.91%\n",
      "\n",
      "step: 2400\n",
      "self.first_inputs: \n",
      " some, suc\n",
      "self.first_outputs: \n",
      "aiui  dokh\n",
      "Average loss at step 2400: 2.220894 learning rate: 0.810000\n",
      "Percentage_of correct: 39.00%\n",
      "validation example (input and output):\n",
      "ture in Mu\n",
      "icsnsn tap\n",
      "Validation percentage of correct: 37.86%\n",
      "\n",
      "step: 2600\n",
      "self.first_inputs: \n",
      "the treatm\n",
      "self.first_outputs: \n",
      "he 'hiir o\n",
      "Average loss at step 2600: 2.211499 learning rate: 0.810000\n",
      "Percentage_of correct: 39.62%\n",
      "validation example (input and output):\n",
      "ture in Mu\n",
      "ire tndatn\n",
      "Validation percentage of correct: 37.93%\n",
      "\n",
      "step: 2800\n",
      "self.first_inputs: \n",
      "rose in po\n",
      "self.first_outputs: \n",
      "idicfn 1t \n",
      "Average loss at step 2800: 2.225143 learning rate: 0.810000\n",
      "Percentage_of correct: 38.93%\n",
      "validation example (input and output):\n",
      "ture in Mu\n",
      "entc(nnVoe\n",
      "Validation percentage of correct: 38.70%\n",
      "\n",
      "step: 3000\n",
      "self.first_inputs: \n",
      "[http://dw\n",
      "self.first_outputs: \n",
      "[r eo//tww\n",
      "Average loss at step 3000: 2.205646 learning rate: 0.729000\n",
      "Percentage_of correct: 39.20%\n",
      "validation example (input and output):\n",
      "ture in Mu\n",
      "iriltn p r\n",
      "Validation percentage of correct: 37.78%\n",
      "\n",
      "step: 3200\n",
      "self.first_inputs: \n",
      "pitzer.edu\n",
      "self.first_outputs: \n",
      "hglode&x>g\n",
      "Average loss at step 3200: 2.170152 learning rate: 0.729000\n",
      "Percentage_of correct: 40.26%\n",
      "validation example (input and output):\n",
      "ture in Mu\n",
      "aresAsãtii\n",
      "Validation percentage of correct: 38.06%\n",
      "\n"
     ]
    },
    {
     "ename": "KeyboardInterrupt",
     "evalue": "",
     "output_type": "error",
     "traceback": [
      "\u001b[0;31m---------------------------------------------------------------------------\u001b[0m",
      "\u001b[0;31mKeyboardInterrupt\u001b[0m                         Traceback (most recent call last)",
      "\u001b[0;32m<ipython-input-13-42043ff150ed>\u001b[0m in \u001b[0;36m<module>\u001b[0;34m()\u001b[0m\n\u001b[1;32m     10\u001b[0m           \u001b[0mprint_steps\u001b[0m \u001b[0;34m=\u001b[0m \u001b[0mprint_steps\u001b[0m\u001b[0;34m,\u001b[0m\u001b[0;34m\u001b[0m\u001b[0m\n\u001b[1;32m     11\u001b[0m             \u001b[0mprint_intermediate_results\u001b[0m \u001b[0;34m=\u001b[0m \u001b[0mTrue\u001b[0m\u001b[0;34m,\u001b[0m\u001b[0;34m\u001b[0m\u001b[0m\n\u001b[0;32m---> 12\u001b[0;31m           validation_example_length=10)\n\u001b[0m",
      "\u001b[0;32m/home/rumpelschtizhen/WIKI/model_module.py\u001b[0m in \u001b[0;36mrun\u001b[0;34m(self, num_stairs, decay, train_frequency, min_num_points, stop_percent, num_train_points_per_1_validation_point, averaging_number, optional_feed_dict, print_intermediate_results, half_life_fixed, add_operations, add_text_operations, print_steps, validation_add_operations, num_validation_prints, validation_example_length, fuse_texts)\u001b[0m\n\u001b[1;32m    470\u001b[0m                 \u001b[0;31m#print(train_operations)\u001b[0m\u001b[0;34m\u001b[0m\u001b[0;34m\u001b[0m\u001b[0m\n\u001b[1;32m    471\u001b[0m                 train_res = session.run(train_operations,\n\u001b[0;32m--> 472\u001b[0;31m                                             feed_dict=feed_dict)\n\u001b[0m\u001b[1;32m    473\u001b[0m                 \u001b[0ml\u001b[0m \u001b[0;34m=\u001b[0m \u001b[0mtrain_res\u001b[0m\u001b[0;34m[\u001b[0m\u001b[0;36m1\u001b[0m\u001b[0;34m]\u001b[0m\u001b[0;34m\u001b[0m\u001b[0m\n\u001b[1;32m    474\u001b[0m                 \u001b[0mpredictions\u001b[0m \u001b[0;34m=\u001b[0m \u001b[0mtrain_res\u001b[0m\u001b[0;34m[\u001b[0m\u001b[0;36m2\u001b[0m\u001b[0;34m]\u001b[0m\u001b[0;34m\u001b[0m\u001b[0m\n",
      "\u001b[0;32m/home/rumpelschtizhen/.local/lib/python2.7/site-packages/tensorflow/python/client/session.pyc\u001b[0m in \u001b[0;36mrun\u001b[0;34m(self, fetches, feed_dict, options, run_metadata)\u001b[0m\n\u001b[1;32m    380\u001b[0m     \u001b[0;32mtry\u001b[0m\u001b[0;34m:\u001b[0m\u001b[0;34m\u001b[0m\u001b[0m\n\u001b[1;32m    381\u001b[0m       result = self._run(None, fetches, feed_dict, options_ptr,\n\u001b[0;32m--> 382\u001b[0;31m                          run_metadata_ptr)\n\u001b[0m\u001b[1;32m    383\u001b[0m       \u001b[0;32mif\u001b[0m \u001b[0mrun_metadata\u001b[0m\u001b[0;34m:\u001b[0m\u001b[0;34m\u001b[0m\u001b[0m\n\u001b[1;32m    384\u001b[0m         \u001b[0mproto_data\u001b[0m \u001b[0;34m=\u001b[0m \u001b[0mtf_session\u001b[0m\u001b[0;34m.\u001b[0m\u001b[0mTF_GetBuffer\u001b[0m\u001b[0;34m(\u001b[0m\u001b[0mrun_metadata_ptr\u001b[0m\u001b[0;34m)\u001b[0m\u001b[0;34m\u001b[0m\u001b[0m\n",
      "\u001b[0;32m/home/rumpelschtizhen/.local/lib/python2.7/site-packages/tensorflow/python/client/session.pyc\u001b[0m in \u001b[0;36m_run\u001b[0;34m(self, handle, fetches, feed_dict, options, run_metadata)\u001b[0m\n\u001b[1;32m    653\u001b[0m     \u001b[0mmovers\u001b[0m \u001b[0;34m=\u001b[0m \u001b[0mself\u001b[0m\u001b[0;34m.\u001b[0m\u001b[0m_update_with_movers\u001b[0m\u001b[0;34m(\u001b[0m\u001b[0mfeed_dict_string\u001b[0m\u001b[0;34m,\u001b[0m \u001b[0mfeed_map\u001b[0m\u001b[0;34m)\u001b[0m\u001b[0;34m\u001b[0m\u001b[0m\n\u001b[1;32m    654\u001b[0m     results = self._do_run(handle, target_list, unique_fetches,\n\u001b[0;32m--> 655\u001b[0;31m                            feed_dict_string, options, run_metadata)\n\u001b[0m\u001b[1;32m    656\u001b[0m \u001b[0;34m\u001b[0m\u001b[0m\n\u001b[1;32m    657\u001b[0m     \u001b[0;31m# User may have fetched the same tensor multiple times, but we\u001b[0m\u001b[0;34m\u001b[0m\u001b[0;34m\u001b[0m\u001b[0m\n",
      "\u001b[0;32m/home/rumpelschtizhen/.local/lib/python2.7/site-packages/tensorflow/python/client/session.pyc\u001b[0m in \u001b[0;36m_do_run\u001b[0;34m(self, handle, target_list, fetch_list, feed_dict, options, run_metadata)\u001b[0m\n\u001b[1;32m    721\u001b[0m     \u001b[0;32mif\u001b[0m \u001b[0mhandle\u001b[0m \u001b[0;32mis\u001b[0m \u001b[0mNone\u001b[0m\u001b[0;34m:\u001b[0m\u001b[0;34m\u001b[0m\u001b[0m\n\u001b[1;32m    722\u001b[0m       return self._do_call(_run_fn, self._session, feed_dict, fetch_list,\n\u001b[0;32m--> 723\u001b[0;31m                            target_list, options, run_metadata)\n\u001b[0m\u001b[1;32m    724\u001b[0m     \u001b[0;32melse\u001b[0m\u001b[0;34m:\u001b[0m\u001b[0;34m\u001b[0m\u001b[0m\n\u001b[1;32m    725\u001b[0m       return self._do_call(_prun_fn, self._session, handle, feed_dict,\n",
      "\u001b[0;32m/home/rumpelschtizhen/.local/lib/python2.7/site-packages/tensorflow/python/client/session.pyc\u001b[0m in \u001b[0;36m_do_call\u001b[0;34m(self, fn, *args)\u001b[0m\n\u001b[1;32m    728\u001b[0m   \u001b[0;32mdef\u001b[0m \u001b[0m_do_call\u001b[0m\u001b[0;34m(\u001b[0m\u001b[0mself\u001b[0m\u001b[0;34m,\u001b[0m \u001b[0mfn\u001b[0m\u001b[0;34m,\u001b[0m \u001b[0;34m*\u001b[0m\u001b[0margs\u001b[0m\u001b[0;34m)\u001b[0m\u001b[0;34m:\u001b[0m\u001b[0;34m\u001b[0m\u001b[0m\n\u001b[1;32m    729\u001b[0m     \u001b[0;32mtry\u001b[0m\u001b[0;34m:\u001b[0m\u001b[0;34m\u001b[0m\u001b[0m\n\u001b[0;32m--> 730\u001b[0;31m       \u001b[0;32mreturn\u001b[0m \u001b[0mfn\u001b[0m\u001b[0;34m(\u001b[0m\u001b[0;34m*\u001b[0m\u001b[0margs\u001b[0m\u001b[0;34m)\u001b[0m\u001b[0;34m\u001b[0m\u001b[0m\n\u001b[0m\u001b[1;32m    731\u001b[0m     \u001b[0;32mexcept\u001b[0m \u001b[0merrors\u001b[0m\u001b[0;34m.\u001b[0m\u001b[0mOpError\u001b[0m \u001b[0;32mas\u001b[0m \u001b[0me\u001b[0m\u001b[0;34m:\u001b[0m\u001b[0;34m\u001b[0m\u001b[0m\n\u001b[1;32m    732\u001b[0m       \u001b[0mmessage\u001b[0m \u001b[0;34m=\u001b[0m \u001b[0mcompat\u001b[0m\u001b[0;34m.\u001b[0m\u001b[0mas_text\u001b[0m\u001b[0;34m(\u001b[0m\u001b[0me\u001b[0m\u001b[0;34m.\u001b[0m\u001b[0mmessage\u001b[0m\u001b[0;34m)\u001b[0m\u001b[0;34m\u001b[0m\u001b[0m\n",
      "\u001b[0;32m/home/rumpelschtizhen/.local/lib/python2.7/site-packages/tensorflow/python/client/session.pyc\u001b[0m in \u001b[0;36m_run_fn\u001b[0;34m(session, feed_dict, fetch_list, target_list, options, run_metadata)\u001b[0m\n\u001b[1;32m    710\u001b[0m         return tf_session.TF_Run(session, options,\n\u001b[1;32m    711\u001b[0m                                  \u001b[0mfeed_dict\u001b[0m\u001b[0;34m,\u001b[0m \u001b[0mfetch_list\u001b[0m\u001b[0;34m,\u001b[0m \u001b[0mtarget_list\u001b[0m\u001b[0;34m,\u001b[0m\u001b[0;34m\u001b[0m\u001b[0m\n\u001b[0;32m--> 712\u001b[0;31m                                  status, run_metadata)\n\u001b[0m\u001b[1;32m    713\u001b[0m \u001b[0;34m\u001b[0m\u001b[0m\n\u001b[1;32m    714\u001b[0m     \u001b[0;32mdef\u001b[0m \u001b[0m_prun_fn\u001b[0m\u001b[0;34m(\u001b[0m\u001b[0msession\u001b[0m\u001b[0;34m,\u001b[0m \u001b[0mhandle\u001b[0m\u001b[0;34m,\u001b[0m \u001b[0mfeed_dict\u001b[0m\u001b[0;34m,\u001b[0m \u001b[0mfetch_list\u001b[0m\u001b[0;34m)\u001b[0m\u001b[0;34m:\u001b[0m\u001b[0;34m\u001b[0m\u001b[0m\n",
      "\u001b[0;31mKeyboardInterrupt\u001b[0m: "
     ]
    }
   ],
   "source": [
    "print_steps = [200 * i for i in range(20)]\n",
    "model.run(10,\n",
    "          0.9,\n",
    "            200,\n",
    "            50,\n",
    "            3,\n",
    "            1,\n",
    "            100,\n",
    "          add_text_operations=['self.first_inputs', 'self.first_outputs'],\n",
    "          print_steps = print_steps,\n",
    "            print_intermediate_results = True,\n",
    "          validation_example_length=10)"
   ]
  },
  {
   "cell_type": "code",
   "execution_count": 31,
   "metadata": {
    "collapsed": false
   },
   "outputs": [
    {
     "name": "stdout",
     "output_type": "stream",
     "text": [
      "Number of steps = 10000     Percentage = 44.40%     Time = 257s     Learning rate = 0.1216\n"
     ]
    }
   ],
   "source": [
    "model.simple_run(200,\n",
    "                   'rnn/variables',\n",
    "                   10000,\n",
    "                   400,\n",
    "                   5000,        #learning has a chance to be stopped after every block of steps\n",
    "                   20,\n",
    "                   0.9,\n",
    "                   3,\n",
    "                   fixed_num_steps=True)"
   ]
  },
  {
   "cell_type": "code",
   "execution_count": 10,
   "metadata": {
    "collapsed": false
   },
   "outputs": [
    {
     "name": "stdout",
     "output_type": "stream",
     "text": [
      "           mean: -0.1\n",
      "      stddev: 0.001\n",
      "Number of steps = 10000     Percentage = 13.65%     Time = 77s     Learning rate = 0.0608\n",
      "      stddev: 0.002\n",
      "Number of steps = 10000     Percentage = 13.65%     Time = 77s     Learning rate = 0.0608\n",
      "      stddev: 0.005\n",
      "Number of steps = 10000     Percentage = 13.65%     Time = 78s     Learning rate = 0.0608\n",
      "      stddev: 0.01\n",
      "Number of steps = 10000     Percentage = 13.65%     Time = 78s     Learning rate = 0.0608\n",
      "      stddev: 0.02\n",
      "Number of steps = 10000     Percentage = 13.65%     Time = 77s     Learning rate = 0.0608\n",
      "      stddev: 0.05\n",
      "Number of steps = 10000     Percentage = 13.65%     Time = 78s     Learning rate = 0.0608\n",
      "      stddev: 0.1\n",
      "Number of steps = 10000     Percentage = 13.65%     Time = 78s     Learning rate = 0.0608\n",
      "      stddev: 0.2\n",
      "Number of steps = 10000     Percentage = 13.65%     Time = 78s     Learning rate = 0.0608\n",
      "      stddev: 0.5\n",
      "Number of steps = 10000     Percentage = 16.41%     Time = 78s     Learning rate = 0.0608\n",
      "      stddev: 1.0\n",
      "Number of steps = 10000     Percentage = 20.40%     Time = 77s     Learning rate = 0.0608\n",
      "           mean: -0.01\n",
      "      stddev: 0.001\n",
      "Number of steps = 10000     Percentage = 39.71%     Time = 77s     Learning rate = 0.0608\n",
      "      stddev: 0.002\n",
      "Number of steps = 10000     Percentage = 40.02%     Time = 77s     Learning rate = 0.0608\n",
      "      stddev: 0.005\n",
      "Number of steps = 10000     Percentage = 40.49%     Time = 78s     Learning rate = 0.0608\n",
      "      stddev: 0.01\n",
      "Number of steps = 10000     Percentage = 40.72%     Time = 77s     Learning rate = 0.0608\n",
      "      stddev: 0.02\n",
      "Number of steps = 10000     Percentage = 41.44%     Time = 77s     Learning rate = 0.0608\n",
      "      stddev: 0.05\n",
      "Number of steps = 10000     Percentage = 42.17%     Time = 78s     Learning rate = 0.0608\n",
      "      stddev: 0.1\n",
      "Number of steps = 10000     Percentage = 42.55%     Time = 78s     Learning rate = 0.0608\n",
      "      stddev: 0.2\n",
      "Number of steps = 10000     Percentage = 41.79%     Time = 78s     Learning rate = 0.0608\n",
      "      stddev: 0.5\n",
      "Number of steps = 10000     Percentage = 30.66%     Time = 78s     Learning rate = 0.0608\n",
      "      stddev: 1.0\n",
      "Number of steps = 10000     Percentage = 0.58%     Time = 78s     Learning rate = 0.0608\n",
      "           mean: 0.0\n",
      "      stddev: 0.001\n",
      "Number of steps = 10000     Percentage = 39.50%     Time = 76s     Learning rate = 0.0608\n",
      "      stddev: 0.002\n",
      "Number of steps = 10000     Percentage = 39.59%     Time = 76s     Learning rate = 0.0608\n",
      "      stddev: 0.005\n",
      "Number of steps = 10000     Percentage = 40.36%     Time = 76s     Learning rate = 0.0608\n",
      "      stddev: 0.01\n",
      "Number of steps = 10000     Percentage = 40.71%     Time = 76s     Learning rate = 0.0608\n",
      "      stddev: 0.02\n",
      "Number of steps = 10000     Percentage = 41.24%     Time = 76s     Learning rate = 0.0608\n",
      "      stddev: 0.05\n",
      "Number of steps = 10000     Percentage = 42.19%     Time = 76s     Learning rate = 0.0608\n",
      "      stddev: 0.1\n",
      "Number of steps = 10000     Percentage = 42.58%     Time = 76s     Learning rate = 0.0608\n",
      "      stddev: 0.2\n",
      "Number of steps = 10000     Percentage = 41.72%     Time = 76s     Learning rate = 0.0608\n",
      "      stddev: 0.5\n",
      "Number of steps = 10000     Percentage = 31.18%     Time = 77s     Learning rate = 0.0608\n",
      "      stddev: 1.0\n",
      "Number of steps = 10000     Percentage = 0.49%     Time = 78s     Learning rate = 0.0608\n",
      "           mean: 0.01\n",
      "      stddev: 0.001\n",
      "Number of steps = 10000     Percentage = 39.73%     Time = 76s     Learning rate = 0.0608\n",
      "      stddev: 0.002\n",
      "Number of steps = 10000     Percentage = 39.68%     Time = 76s     Learning rate = 0.0608\n",
      "      stddev: 0.005\n",
      "Number of steps = 10000     Percentage = 40.36%     Time = 77s     Learning rate = 0.0608\n",
      "      stddev: 0.01\n",
      "Number of steps = 10000     Percentage = 40.73%     Time = 76s     Learning rate = 0.0608\n",
      "      stddev: 0.02\n",
      "Number of steps = 10000     Percentage = 41.53%     Time = 76s     Learning rate = 0.0608\n",
      "      stddev: 0.05\n",
      "Number of steps = 10000     Percentage = 41.91%     Time = 77s     Learning rate = 0.0608\n",
      "      stddev: 0.1\n",
      "Number of steps = 10000     Percentage = 42.90%     Time = 76s     Learning rate = 0.0608\n",
      "      stddev: 0.2\n",
      "Number of steps = 10000     Percentage = 42.32%     Time = 76s     Learning rate = 0.0608\n",
      "      stddev: 0.5\n",
      "Number of steps = 10000     Percentage = 31.45%     Time = 76s     Learning rate = 0.0608\n",
      "      stddev: 1.0\n",
      "Number of steps = 10000     Percentage = 0.68%     Time = 76s     Learning rate = 0.0608\n",
      "           mean: 0.1\n",
      "      stddev: 0.001\n",
      "Number of steps = 10000     Percentage = 13.65%     Time = 79s     Learning rate = 0.0608\n",
      "      stddev: 0.002\n",
      "Number of steps = 10000     Percentage = 13.65%     Time = 79s     Learning rate = 0.0608\n",
      "      stddev: 0.005\n",
      "Number of steps = 10000     Percentage = 13.65%     Time = 78s     Learning rate = 0.0608\n",
      "      stddev: 0.01\n",
      "Number of steps = 10000     Percentage = 13.65%     Time = 78s     Learning rate = 0.0608\n",
      "      stddev: 0.02\n",
      "Number of steps = 10000     Percentage = 13.65%     Time = 78s     Learning rate = 0.0608\n",
      "      stddev: 0.05\n",
      "Number of steps = 10000     Percentage = 13.65%     Time = 78s     Learning rate = 0.0608\n",
      "      stddev: 0.1\n",
      "Number of steps = 10000     Percentage = 13.65%     Time = 78s     Learning rate = 0.0608\n",
      "      stddev: 0.2\n",
      "Number of steps = 10000     Percentage = 13.65%     Time = 78s     Learning rate = 0.0608\n",
      "      stddev: 0.5\n",
      "Number of steps = 10000     Percentage = 22.65%     Time = 77s     Learning rate = 0.0608\n",
      "      stddev: 1.0\n",
      "Number of steps = 10000     Percentage = 23.56%     Time = 78s     Learning rate = 0.0608\n"
     ]
    }
   ],
   "source": [
    "mean_values = [-0.1, -0.01, 0., 0.01, 0.1]\n",
    "sttdev_values = [0.001, 0.002, 0.005, 0.01, 0.02, 0.05, 0.1, 0.2, 0.5, 1.]\n",
    "adjustment_results = list()\n",
    "for mean_value in mean_values:\n",
    "    print(' '*10, 'mean:', mean_value)\n",
    "    for stddev_value in sttdev_values:\n",
    "        print(' '*5, 'stddev:', stddev_value)\n",
    "        model = RNN(64,\n",
    "                        vocabulary,\n",
    "                        characters_positions_in_vocabulary,\n",
    "                        10,\n",
    "                        1,\n",
    "                        [128],\n",
    "                        train_text,\n",
    "                        valid_text,\n",
    "                        mean=mean_value,\n",
    "                        stddev=stddev_value) \n",
    "        model.simple_run(200,\n",
    "                               'rnn/variables',\n",
    "                               10000,\n",
    "                               400,\n",
    "                               5000,        #learning has a chance to be stopped after every block of steps\n",
    "                               20,\n",
    "                               0.9,\n",
    "                               3,\n",
    "                               fixed_num_steps=True) \n",
    "        adjustment_results.extend(model._results)\n",
    "        model.destroy()\n",
    "        del model\n",
    "        gc.collect()"
   ]
  },
  {
   "cell_type": "code",
   "execution_count": 11,
   "metadata": {
    "collapsed": false
   },
   "outputs": [
    {
     "name": "stdout",
     "output_type": "stream",
     "text": [
      "Pickling rnn/rnn_adjustment_ns_10000_hl_500_dc_0.9_nu_10_mv-0.1_0.1_std0.001-1.pickle.\n"
     ]
    }
   ],
   "source": [
    "folder_name = 'rnn'\n",
    "file_name = 'rnn_adjustment_ns_10000_hl_500_dc_0.9_nu_10_mv-0.1_0.1_std0.001-1.pickle'\n",
    "force = True\n",
    "pickle_dump = {'adjustment_results': adjustment_results}\n",
    "if not os.path.exists(folder_name):\n",
    "    try:\n",
    "        os.makedirs(folder_name)\n",
    "    except Exception as e:\n",
    "        print(\"Unable create folder '%s'\" % folder_name, ':', e)    \n",
    "print('Pickling %s.' % (folder_name + '/' + file_name))\n",
    "try:\n",
    "    with open(folder_name + '/' + file_name, 'wb') as f:\n",
    "        pickle.dump(pickle_dump, f, pickle.HIGHEST_PROTOCOL)\n",
    "except Exception as e:\n",
    "    print('Unable to save data to', file_name, ':', e)"
   ]
  },
  {
   "cell_type": "code",
   "execution_count": 8,
   "metadata": {
    "collapsed": true
   },
   "outputs": [],
   "source": [
    "folder_name = 'rnn'\n",
    "pickle_file = 'rnn_adjustment_ns_10000_hl_500_dc_0.9_nu_10_mv-0.1_0.1_std0.001-1.pickle'\n",
    "\n",
    "with open(folder_name + '/' + pickle_file, 'rb') as f:\n",
    "  save = pickle.load(f)\n",
    "  adjustment_results = save['adjustment_results']\n",
    "  del save  # hint to help gc free up memory"
   ]
  },
  {
   "cell_type": "code",
   "execution_count": 9,
   "metadata": {
    "collapsed": false
   },
   "outputs": [],
   "source": [
    "from plot_module import ComparePlots\n",
    "\n",
    "rnn_adjustment_plots = ComparePlots('rnn')\n",
    "rnn_adjustment_plots.add_network(adjustment_results, model._indices)\n",
    "\n"
   ]
  },
  {
   "cell_type": "code",
   "execution_count": 12,
   "metadata": {
    "collapsed": false
   },
   "outputs": [
    {
     "name": "stderr",
     "output_type": "stream",
     "text": [
      "/usr/local/lib/python2.7/dist-packages/matplotlib/font_manager.py:1288: UserWarning: findfont: Font family [u'normal'] not found. Falling back to Bitstream Vera Sans\n",
      "  (prop.get_family(), self.defaultFamily[fontext]))\n"
     ]
    },
    {
     "data": {
      "image/png": "[encoded data removed]",
      "text/plain": [
       "<matplotlib.figure.Figure at 0x7fb163d5efd0>"
      ]
     },
     "metadata": {},
     "output_type": "display_data"
    }
   ],
   "source": [
    "plot_options = {'x': 'log'}\n",
    "plot_data, _ = rnn_adjustment_plots.one_key_layout_data('rnn_1',\n",
    "                                                                'init_stddev',\n",
    "                                         \"init_mean\")\n",
    "rnn_adjustment_plots.save_layout(plot_data[0],\n",
    "                    'matrices initialization',\n",
    "                    ['adjustment'],\n",
    "                    'nn128;ns10000;hl500;dc0.9',\n",
    "                     plot_options=plot_options)\n",
    "rnn_adjustment_plots.draw(plot_data[0], 'matrices initialization', plot_options=plot_options)"
   ]
  },
  {
   "cell_type": "code",
   "execution_count": 8,
   "metadata": {
    "collapsed": false
   },
   "outputs": [
    {
     "name": "stdout",
     "output_type": "stream",
     "text": [
      "#0\n",
      "Number of steps = 20000     Percentage = 46.92%     Time = 395s     Learning rate = 0.5000\n",
      "#1\n",
      "Number of steps = 20000     Percentage = 45.05%     Time = 396s     Learning rate = 0.5000\n",
      "#2\n",
      "Number of steps = 20000     Percentage = 46.77%     Time = 397s     Learning rate = 0.5000\n",
      "#3\n",
      "Number of steps = 20000     Percentage = 46.91%     Time = 404s     Learning rate = 0.5000\n",
      "#4\n",
      "Number of steps = 20000     Percentage = 46.85%     Time = 403s     Learning rate = 0.5000\n",
      "#5\n",
      "Number of steps = 20000     Percentage = 47.00%     Time = 392s     Learning rate = 0.5000\n",
      "#6\n",
      "Number of steps = 20000     Percentage = 46.72%     Time = 391s     Learning rate = 0.5000\n",
      "#7\n",
      "Number of steps = 20000     Percentage = 46.73%     Time = 393s     Learning rate = 0.5000\n",
      "#8\n",
      "Number of steps = 20000     Percentage = 46.44%     Time = 396s     Learning rate = 0.5000\n",
      "#9\n",
      "Number of steps = 20000     Percentage = 46.64%     Time = 398s     Learning rate = 0.5000\n",
      "#10\n",
      "Number of steps = 20000     Percentage = 46.70%     Time = 395s     Learning rate = 0.5000\n",
      "#11\n",
      "Number of steps = 20000     Percentage = 46.88%     Time = 394s     Learning rate = 0.5000\n",
      "#12\n",
      "Number of steps = 20000     Percentage = 46.57%     Time = 393s     Learning rate = 0.5000\n",
      "#13\n",
      "Number of steps = 20000     Percentage = 46.67%     Time = 395s     Learning rate = 0.5000\n",
      "#14\n",
      "Number of steps = 20000     Percentage = 46.49%     Time = 390s     Learning rate = 0.5000\n",
      "#15\n",
      "Number of steps = 20000     Percentage = 46.35%     Time = 391s     Learning rate = 0.5000\n",
      "#16\n",
      "Number of steps = 20000     Percentage = 46.97%     Time = 395s     Learning rate = 0.5000\n",
      "#17\n",
      "Number of steps = 20000     Percentage = 46.69%     Time = 394s     Learning rate = 0.5000\n",
      "#18\n",
      "Number of steps = 20000     Percentage = 46.84%     Time = 400s     Learning rate = 0.5000\n",
      "#19\n",
      "Number of steps = 20000     Percentage = 47.00%     Time = 397s     Learning rate = 0.5000\n",
      "#20\n",
      "Number of steps = 20000     Percentage = 46.79%     Time = 399s     Learning rate = 0.5000\n",
      "#21\n",
      "Number of steps = 20000     Percentage = 46.89%     Time = 403s     Learning rate = 0.5000\n",
      "#22\n",
      "Number of steps = 20000     Percentage = 46.94%     Time = 404s     Learning rate = 0.5000\n",
      "#23\n",
      "Number of steps = 20000     Percentage = 46.87%     Time = 404s     Learning rate = 0.5000\n",
      "#24\n",
      "Number of steps = 20000     Percentage = 46.67%     Time = 398s     Learning rate = 0.5000\n"
     ]
    }
   ],
   "source": [
    "\"\"\"learning rate adjustment\"\"\"\n",
    "learning_rate_values = [10., 5., 2., 1., 0.5, 0.2, 0.1, 0.05]\n",
    "learning_rate_adjustment_results = list()\n",
    "for i in range(25):\n",
    "    print('#%s' % i)\n",
    "    model = RNN(64,\n",
    "                        vocabulary,\n",
    "                        characters_positions_in_vocabulary,\n",
    "                        30,\n",
    "                        1,\n",
    "                        [128],\n",
    "                        train_text,\n",
    "                        valid_text) \n",
    "    model.simple_run(200,\n",
    "                               'rnn/compare_random_choive/variables',\n",
    "                               20000,\n",
    "                               400,\n",
    "                               5000,        #learning has a chance to be stopped after every block of steps\n",
    "                               1,\n",
    "                               1.0,\n",
    "                               3,\n",
    "                               fixed_num_steps=True) \n",
    "    learning_rate_adjustment_results.extend(model._results)\n",
    "    model.destroy()\n",
    "    del model\n",
    "    gc.collect()"
   ]
  },
  {
   "cell_type": "code",
   "execution_count": 9,
   "metadata": {
    "collapsed": false
   },
   "outputs": [
    {
     "name": "stdout",
     "output_type": "stream",
     "text": [
      "46.69353125\n"
     ]
    }
   ],
   "source": [
    "average = 0\n",
    "for result in learning_rate_adjustment_results:\n",
    "    average += result['data']['train']['percentage'][-1]\n",
    "print(average/25)"
   ]
  },
  {
   "cell_type": "code",
   "execution_count": 16,
   "metadata": {
    "collapsed": false
   },
   "outputs": [
    {
     "name": "stdout",
     "output_type": "stream",
     "text": [
      "      learning_rate_value: 0.02\n",
      "Number of steps = 10000     Percentage = 27.12%     Time = 77s     Learning rate = 0.0200\n",
      "      learning_rate_value: 0.01\n",
      "Number of steps = 10000     Percentage = 23.27%     Time = 77s     Learning rate = 0.0100\n",
      "      learning_rate_value: 0.005\n",
      "Number of steps = 10000     Percentage = 15.81%     Time = 77s     Learning rate = 0.0050\n",
      "      learning_rate_value: 0.002\n",
      "Number of steps = 10000     Percentage = 13.65%     Time = 77s     Learning rate = 0.0020\n",
      "      learning_rate_value: 0.001\n",
      "Number of steps = 10000     Percentage = 13.65%     Time = 76s     Learning rate = 0.0010\n"
     ]
    }
   ],
   "source": [
    "\"\"\"learning rate adjustment\"\"\"\n",
    "learning_rate_values = [0.02, 0.01, 0.005, 0.002, 0.001]\n",
    "for learning_rate_value in learning_rate_values:\n",
    "    print(' '*5, 'learning_rate_value:', learning_rate_value)\n",
    "    model = RNN(64,\n",
    "                        vocabulary,\n",
    "                        characters_positions_in_vocabulary,\n",
    "                        10,\n",
    "                        1,\n",
    "                        [128],\n",
    "                        train_text,\n",
    "                        valid_text,\n",
    "                        init_learning_rate=learning_rate_value) \n",
    "    model.simple_run(200,\n",
    "                               'rnn/variables',\n",
    "                               10000,\n",
    "                               400,\n",
    "                               5000,        #learning has a chance to be stopped after every block of steps\n",
    "                               1,\n",
    "                               1.0,\n",
    "                               3,\n",
    "                               fixed_num_steps=True) \n",
    "    learning_rate_adjustment_results.extend(model._results)\n",
    "    model.destroy()\n",
    "    del model\n",
    "    gc.collect()"
   ]
  },
  {
   "cell_type": "code",
   "execution_count": 17,
   "metadata": {
    "collapsed": false
   },
   "outputs": [
    {
     "name": "stdout",
     "output_type": "stream",
     "text": [
      "Pickling rnn/rnn_learning_rate_ns_10000_hl_500_dc_0.9_nu_10_mv-0.1_0.1_std0.001-1.pickle.\n"
     ]
    }
   ],
   "source": [
    "folder_name = 'rnn'\n",
    "file_name = 'rnn_learning_rate_ns_10000_hl_500_dc_0.9_nu_10_mv-0.1_0.1_std0.001-1.pickle'\n",
    "force = True\n",
    "pickle_dump = {'adjustment_results': learning_rate_adjustment_results}\n",
    "if not os.path.exists(folder_name):\n",
    "    try:\n",
    "        os.makedirs(folder_name)\n",
    "    except Exception as e:\n",
    "        print(\"Unable create folder '%s'\" % folder_name, ':', e)    \n",
    "print('Pickling %s.' % (folder_name + '/' + file_name))\n",
    "try:\n",
    "    with open(folder_name + '/' + file_name, 'wb') as f:\n",
    "        pickle.dump(pickle_dump, f, pickle.HIGHEST_PROTOCOL)\n",
    "except Exception as e:\n",
    "    print('Unable to save data to', file_name, ':', e)"
   ]
  },
  {
   "cell_type": "code",
   "execution_count": 8,
   "metadata": {
    "collapsed": true
   },
   "outputs": [],
   "source": [
    "folder_name = 'rnn'\n",
    "pickle_file = 'rnn_learning_rate_ns_10000_hl_500_dc_0.9_nu_10_mv-0.1_0.1_std0.001-1.pickle'\n",
    "\n",
    "with open(folder_name + '/' + pickle_file, 'rb') as f:\n",
    "  save = pickle.load(f)\n",
    "  learning_rate_adjustment_results = save['adjustment_results']\n",
    "  del save  # hint to help gc free up memory"
   ]
  },
  {
   "cell_type": "code",
   "execution_count": 9,
   "metadata": {
    "collapsed": false
   },
   "outputs": [
    {
     "name": "stdout",
     "output_type": "stream",
     "text": [
      "{'metadata': [64, 10, 1, [128], 10000, 1.0, 10000, 200, 0.0, 0.1, 0.0, 10.0, 'rnn'], 'data': {'train': {'step': [-1], 'percentage': [6.18203125]}, 'validation': {'step': [-1], 'percentage': [6.71]}}, 'time': 77.33614600000004}\n",
      "{'metadata': [64, 10, 1, [128], 10000, 1.0, 10000, 200, 0.0, 0.1, 0.0, 5.0, 'rnn'], 'data': {'train': {'step': [-1], 'percentage': [3.86953125]}, 'validation': {'step': [-1], 'percentage': [4.95]}}, 'time': 82.252749}\n",
      "{'metadata': [64, 10, 1, [128], 10000, 1.0, 10000, 200, 0.0, 0.1, 0.0, 2.0, 'rnn'], 'data': {'train': {'step': [-1], 'percentage': [37.9046875]}, 'validation': {'step': [-1], 'percentage': [36.31]}}, 'time': 80.958526}\n",
      "{'metadata': [64, 10, 1, [128], 10000, 1.0, 10000, 200, 0.0, 0.1, 0.0, 1.0, 'rnn'], 'data': {'train': {'step': [-1], 'percentage': [42.9140625]}, 'validation': {'step': [-1], 'percentage': [41.59]}}, 'time': 79.37028199999997}\n",
      "{'metadata': [64, 10, 1, [128], 10000, 1.0, 10000, 200, 0.0, 0.1, 0.0, 0.5, 'rnn'], 'data': {'train': {'step': [-1], 'percentage': [41.34140625]}, 'validation': {'step': [-1], 'percentage': [40.03]}}, 'time': 76.97233099999994}\n",
      "{'metadata': [64, 10, 1, [128], 10000, 1.0, 10000, 200, 0.0, 0.1, 0.0, 0.2, 'rnn'], 'data': {'train': {'step': [-1], 'percentage': [41.16640625]}, 'validation': {'step': [-1], 'percentage': [39.6]}}, 'time': 82.05845999999997}\n",
      "{'metadata': [64, 10, 1, [128], 10000, 1.0, 10000, 200, 0.0, 0.1, 0.0, 0.1, 'rnn'], 'data': {'train': {'step': [-1], 'percentage': [38.0125]}, 'validation': {'step': [-1], 'percentage': [37.65]}}, 'time': 80.68007399999988}\n",
      "{'metadata': [64, 10, 1, [128], 10000, 1.0, 10000, 200, 0.0, 0.1, 0.0, 0.05, 'rnn'], 'data': {'train': {'step': [-1], 'percentage': [33.19296875]}, 'validation': {'step': [-1], 'percentage': [33.03]}}, 'time': 79.84493999999995}\n",
      "{'metadata': [64, 10, 1, [128], 10000, 1.0, 10000, 200, 0.0, 0.1, 0.0, 0.02, 'rnn'], 'data': {'train': {'step': [-1], 'percentage': [27.12265625]}, 'validation': {'step': [-1], 'percentage': [28.52]}}, 'time': 76.72083300000008}\n",
      "{'metadata': [64, 10, 1, [128], 10000, 1.0, 10000, 200, 0.0, 0.1, 0.0, 0.01, 'rnn'], 'data': {'train': {'step': [-1], 'percentage': [23.27421875]}, 'validation': {'step': [-1], 'percentage': [25.21]}}, 'time': 76.71365400000013}\n",
      "{'metadata': [64, 10, 1, [128], 10000, 1.0, 10000, 200, 0.0, 0.1, 0.0, 0.005, 'rnn'], 'data': {'train': {'step': [-1], 'percentage': [15.8109375]}, 'validation': {'step': [-1], 'percentage': [16.95]}}, 'time': 76.85077599999977}\n",
      "{'metadata': [64, 10, 1, [128], 10000, 1.0, 10000, 200, 0.0, 0.1, 0.0, 0.002, 'rnn'], 'data': {'train': {'step': [-1], 'percentage': [13.65]}, 'validation': {'step': [-1], 'percentage': [13.1]}}, 'time': 76.69776200000024}\n",
      "{'metadata': [64, 10, 1, [128], 10000, 1.0, 10000, 200, 0.0, 0.1, 0.0, 0.001, 'rnn'], 'data': {'train': {'step': [-1], 'percentage': [13.65]}, 'validation': {'step': [-1], 'percentage': [13.09]}}, 'time': 76.30165699999998}\n"
     ]
    }
   ],
   "source": [
    "for result in learning_rate_adjustment_results:\n",
    "    print(result)"
   ]
  },
  {
   "cell_type": "code",
   "execution_count": 10,
   "metadata": {
    "collapsed": false
   },
   "outputs": [],
   "source": [
    "from plot_module import ComparePlots\n",
    "\n",
    "rnn_learning_rate_plots = ComparePlots('rnn')\n",
    "rnn_learning_rate_plots.add_network(learning_rate_adjustment_results, model._indices)\n",
    "\n"
   ]
  },
  {
   "cell_type": "code",
   "execution_count": 11,
   "metadata": {
    "collapsed": false
   },
   "outputs": [
    {
     "name": "stdout",
     "output_type": "stream",
     "text": [
      "[6.18203125]\n",
      "[3.86953125]\n",
      "[37.9046875]\n",
      "[42.9140625]\n",
      "[41.34140625]\n",
      "[41.16640625]\n",
      "[38.0125]\n",
      "[33.19296875]\n",
      "[27.12265625]\n",
      "[23.27421875]\n",
      "[15.8109375]\n",
      "[13.65]\n",
      "[13.65]\n",
      "There is no labels on plot\n"
     ]
    },
    {
     "name": "stderr",
     "output_type": "stream",
     "text": [
      "/usr/local/lib/python2.7/dist-packages/matplotlib/font_manager.py:1288: UserWarning: findfont: Font family [u'normal'] not found. Falling back to Bitstream Vera Sans\n",
      "  (prop.get_family(), self.defaultFamily[fontext]))\n"
     ]
    },
    {
     "data": {
      "image/png": "[encoded data removed]",
      "text/plain": [
       "<matplotlib.figure.Figure at 0x7fa548c8ba90>"
      ]
     },
     "metadata": {},
     "output_type": "display_data"
    }
   ],
   "source": [
    "plot_options = {'x': 'log'}\n",
    "plot_data, _ = rnn_learning_rate_plots.one_key_layout_data('rnn_1',\n",
    "                                                                'init_learning_rate',\n",
    "                                         None)\n",
    "rnn_learning_rate_plots.save_layout(plot_data[0],\n",
    "                    'learning rate check',\n",
    "                    ['adjustment'],\n",
    "                    'nn128;ns10000;hl500;dc0.9',\n",
    "                     plot_options=plot_options)\n",
    "rnn_learning_rate_plots.draw(plot_data[0], 'learning rate check', plot_options=plot_options)"
   ]
  },
  {
   "cell_type": "code",
   "execution_count": 12,
   "metadata": {
    "collapsed": false
   },
   "outputs": [
    {
     "name": "stdout",
     "output_type": "stream",
     "text": [
      "{'layout_variable': None, 'fixed': None, 'data': [{'y': [13.65, 13.65, 15.8109375, 23.27421875, 27.12265625, 33.19296875, 38.0125, 41.16640625, 41.34140625, 42.9140625, 37.9046875, 3.86953125, 6.18203125], 'x': [0.001, 0.002, 0.005, 0.01, 0.02, 0.05, 0.1, 0.2, 0.5, 1.0, 2.0, 5.0, 10.0], 'layout_value': None}], 'x_variable': ('init_learning_rate', None), 'several_networks': False}\n"
     ]
    }
   ],
   "source": [
    "print(plot_data[0])"
   ]
  },
  {
   "cell_type": "code",
   "execution_count": 32,
   "metadata": {
    "collapsed": false
   },
   "outputs": [
    {
     "name": "stdout",
     "output_type": "stream",
     "text": [
      "      number of nodes: 96\n",
      "num_unrollings: 10\n",
      "Number of steps = 80001     Percentage = 47.79%     Time = 648s     Learning rate = 0.0278\n",
      "num_unrollings: 20\n",
      "Number of steps = 80001     Percentage = 48.62%     Time = 1113s     Learning rate = 0.0278\n",
      "num_unrollings: 40\n",
      "Number of steps = 80001     Percentage = 48.73%     Time = 2039s     Learning rate = 0.0278\n",
      "      number of nodes: 128\n",
      "num_unrollings: 10\n",
      "Number of steps = 80001     Percentage = 49.59%     Time = 628s     Learning rate = 0.0278\n",
      "num_unrollings: 20\n",
      "Number of steps = 80001     Percentage = 50.40%     Time = 1133s     Learning rate = 0.0278\n",
      "num_unrollings: 40\n",
      "Number of steps = 80001     Percentage = 50.77%     Time = 2201s     Learning rate = 0.0278\n",
      "      number of nodes: 192\n",
      "num_unrollings: 10\n",
      "Number of steps = 80001     Percentage = 51.83%     Time = 697s     Learning rate = 0.0278\n",
      "num_unrollings: 20\n",
      "Number of steps = 80001     Percentage = 52.95%     Time = 1271s     Learning rate = 0.0278\n",
      "num_unrollings: 40\n",
      "Number of steps = 80001     Percentage = 53.34%     Time = 2405s     Learning rate = 0.0278\n",
      "      number of nodes: 256\n",
      "num_unrollings: 10\n",
      "Number of steps = 80001     Percentage = 53.34%     Time = 673s     Learning rate = 0.0278\n",
      "num_unrollings: 20\n",
      "Number of steps = 80001     Percentage = 54.49%     Time = 1221s     Learning rate = 0.0278\n",
      "num_unrollings: 40\n",
      "Number of steps = 80001     Percentage = 54.85%     Time = 2325s     Learning rate = 0.0278\n",
      "      number of nodes: 384\n",
      "num_unrollings: 10\n",
      "Number of steps = 85001     Percentage = 54.82%     Time = 783s     Learning rate = 0.0225\n",
      "num_unrollings: 20\n",
      "Number of steps = 80001     Percentage = 56.29%     Time = 1352s     Learning rate = 0.0278\n",
      "num_unrollings: 40\n",
      "Number of steps = 85001     Percentage = 56.88%     Time = 2709s     Learning rate = 0.0225\n",
      "      number of nodes: 512\n",
      "num_unrollings: 10\n",
      "Number of steps = 85001     Percentage = 55.71%     Time = 896s     Learning rate = 0.0225\n",
      "num_unrollings: 20\n",
      "Number of steps = 80001     Percentage = 57.18%     Time = 1544s     Learning rate = 0.0278\n",
      "num_unrollings: 40\n",
      "Number of steps = 95001     Percentage = 58.55%     Time = 3481s     Learning rate = 0.0148\n"
     ]
    }
   ],
   "source": [
    "num_layers_values = [-0.1, -0.01, 0., 0.01, 0.1]\n",
    "num_nodes_values = [96, 128, 192, 256, 384, 512]\n",
    "num_unrollings_values = [10, 20, 40]\n",
    "\n",
    "results_GL = list()\n",
    "for num_nodes_value in num_nodes_values:\n",
    "    print(' '*5, 'number of nodes:', num_nodes_value)\n",
    "    for num_unrollings_value in num_unrollings_values:\n",
    "        print('num_unrollings:', num_unrollings_value)\n",
    "        model = RNN(64,\n",
    "                            vocabulary,\n",
    "                            characters_positions_in_vocabulary,\n",
    "                            num_unrollings_value,\n",
    "                            1,\n",
    "                            [num_nodes_value],\n",
    "                            train_text,\n",
    "                            valid_text,\n",
    "                   init_learning_rate=1.) \n",
    "        model.simple_run(200,\n",
    "                        'rnn/variables',\n",
    "                         80000,\n",
    "                         1000,\n",
    "                                   5000,        #learning has a chance to be stopped after every block of steps\n",
    "                                   34,\n",
    "                                   0.9,\n",
    "                                   3) \n",
    "        results_GL.extend(model._results)\n",
    "        model.destroy()\n",
    "        del model\n",
    "        gc.collect()"
   ]
  },
  {
   "cell_type": "code",
   "execution_count": 33,
   "metadata": {
    "collapsed": false
   },
   "outputs": [
    {
     "name": "stdout",
     "output_type": "stream",
     "text": [
      "Pickling rnn/rnn_ns_80000_decay_steps_34_dc_0.9_nl_1_nn96-512_nu_10-40.pickle.\n"
     ]
    }
   ],
   "source": [
    "folder_name = 'rnn'\n",
    "file_name = 'rnn_ns_80000_decay_steps_34_dc_0.9_nl_1_nn96-512_nu_10-40.pickle'\n",
    "force = True\n",
    "pickle_dump = {'results_GL': results_GL}\n",
    "if not os.path.exists(folder_name):\n",
    "    try:\n",
    "        os.makedirs(folder_name)\n",
    "    except Exception as e:\n",
    "        print(\"Unable create folder '%s'\" % folder_name, ':', e)    \n",
    "print('Pickling %s.' % (folder_name + '/' + file_name))\n",
    "try:\n",
    "    with open(folder_name + '/' + file_name, 'wb') as f:\n",
    "        pickle.dump(pickle_dump, f, pickle.HIGHEST_PROTOCOL)\n",
    "except Exception as e:\n",
    "    print('Unable to save data to', file_name, ':', e)"
   ]
  },
  {
   "cell_type": "code",
   "execution_count": 34,
   "metadata": {
    "collapsed": false
   },
   "outputs": [
    {
     "name": "stdout",
     "output_type": "stream",
     "text": [
      "           number of nodes[0]: 16\n",
      "      number of nodes[1]: 16\n",
      "num_unrollings: 10\n",
      "Number of steps = 80001     Percentage = 36.83%     Time = 719s     Learning rate = 0.0278\n",
      "num_unrollings: 20\n",
      "Number of steps = 80001     Percentage = 36.90%     Time = 1381s     Learning rate = 0.0278\n",
      "num_unrollings: 40\n",
      "Number of steps = 80001     Percentage = 37.67%     Time = 2745s     Learning rate = 0.0278\n",
      "      number of nodes[1]: 32\n",
      "num_unrollings: 10\n",
      "Number of steps = 80001     Percentage = 40.54%     Time = 737s     Learning rate = 0.0278\n",
      "num_unrollings: 20\n",
      "Number of steps = 80001     Percentage = 41.08%     Time = 1395s     Learning rate = 0.0278\n",
      "num_unrollings: 40\n",
      "Number of steps = 80001     Percentage = 41.23%     Time = 2736s     Learning rate = 0.0278\n",
      "      number of nodes[1]: 64\n",
      "num_unrollings: 10\n",
      "Number of steps = 80001     Percentage = 45.06%     Time = 769s     Learning rate = 0.0278\n",
      "num_unrollings: 20\n",
      "Number of steps = 80001     Percentage = 45.70%     Time = 1472s     Learning rate = 0.0278\n",
      "num_unrollings: 40\n",
      "Number of steps = 80001     Percentage = 45.59%     Time = 2843s     Learning rate = 0.0278\n",
      "      number of nodes[1]: 128\n",
      "num_unrollings: 10\n",
      "Number of steps = 80001     Percentage = 50.31%     Time = 873s     Learning rate = 0.0278\n",
      "num_unrollings: 20\n",
      "Number of steps = 80001     Percentage = 50.81%     Time = 1649s     Learning rate = 0.0278\n",
      "num_unrollings: 40\n",
      "Number of steps = 80001     Percentage = 51.18%     Time = 3241s     Learning rate = 0.0278\n",
      "           number of nodes[0]: 32\n",
      "      number of nodes[1]: 16\n",
      "num_unrollings: 10\n",
      "Number of steps = 80001     Percentage = 40.17%     Time = 717s     Learning rate = 0.0278\n",
      "num_unrollings: 20\n",
      "Number of steps = 80001     Percentage = 40.43%     Time = 1379s     Learning rate = 0.0278\n",
      "num_unrollings: 40\n",
      "Number of steps = 80001     Percentage = 40.53%     Time = 2775s     Learning rate = 0.0278\n",
      "      number of nodes[1]: 32\n",
      "num_unrollings: 10\n",
      "Number of steps = 80001     Percentage = 42.97%     Time = 721s     Learning rate = 0.0278\n",
      "num_unrollings: 20\n",
      "Number of steps = 80001     Percentage = 43.38%     Time = 1416s     Learning rate = 0.0278\n",
      "num_unrollings: 40\n",
      "Number of steps = 80001     Percentage = 43.65%     Time = 2834s     Learning rate = 0.0278\n",
      "      number of nodes[1]: 64\n",
      "num_unrollings: 10\n",
      "Number of steps = 80001     Percentage = 46.70%     Time = 784s     Learning rate = 0.0278\n",
      "num_unrollings: 20\n",
      "Number of steps = 80001     Percentage = 47.44%     Time = 1497s     Learning rate = 0.0278\n",
      "num_unrollings: 40\n",
      "Number of steps = 80001     Percentage = 47.62%     Time = 2876s     Learning rate = 0.0278\n",
      "      number of nodes[1]: 128\n",
      "num_unrollings: 10\n",
      "Number of steps = 80001     Percentage = 51.09%     Time = 885s     Learning rate = 0.0278\n",
      "num_unrollings: 20\n",
      "Number of steps = 80001     Percentage = 51.94%     Time = 1670s     Learning rate = 0.0278\n",
      "num_unrollings: 40\n",
      "Number of steps = 80001     Percentage = 52.08%     Time = 3265s     Learning rate = 0.0278\n",
      "           number of nodes[0]: 64\n",
      "      number of nodes[1]: 16\n",
      "num_unrollings: 10\n",
      "Number of steps = 80001     Percentage = 43.90%     Time = 763s     Learning rate = 0.0278\n",
      "num_unrollings: 20\n",
      "Number of steps = 80001     Percentage = 44.59%     Time = 1443s     Learning rate = 0.0278\n",
      "num_unrollings: 40\n",
      "Number of steps = 80001     Percentage = 44.95%     Time = 2854s     Learning rate = 0.0278\n",
      "      number of nodes[1]: 32\n",
      "num_unrollings: 10\n",
      "Number of steps = 80001     Percentage = 46.10%     Time = 760s     Learning rate = 0.0278\n",
      "num_unrollings: 20\n",
      "Number of steps = 80001     Percentage = 46.67%     Time = 1463s     Learning rate = 0.0278\n",
      "num_unrollings: 40\n",
      "Number of steps = 80001     Percentage = 47.37%     Time = 2875s     Learning rate = 0.0278\n",
      "      number of nodes[1]: 64\n",
      "num_unrollings: 10\n",
      "Number of steps = 80001     Percentage = 48.98%     Time = 823s     Learning rate = 0.0278\n",
      "num_unrollings: 20\n",
      "Number of steps = 80001     Percentage = 49.63%     Time = 1556s     Learning rate = 0.0278\n",
      "num_unrollings: 40\n",
      "Number of steps = 80001     Percentage = 49.96%     Time = 3018s     Learning rate = 0.0278\n",
      "      number of nodes[1]: 128\n",
      "num_unrollings: 10\n",
      "Number of steps = 80001     Percentage = 52.01%     Time = 872s     Learning rate = 0.0278\n",
      "num_unrollings: 20\n",
      "Number of steps = 80001     Percentage = 52.85%     Time = 1621s     Learning rate = 0.0278\n",
      "num_unrollings: 40\n",
      "Number of steps = 80001     Percentage = 53.24%     Time = 3071s     Learning rate = 0.0278\n",
      "           number of nodes[0]: 128\n",
      "      number of nodes[1]: 16\n",
      "num_unrollings: 10\n",
      "Number of steps = 80001     Percentage = 48.04%     Time = 837s     Learning rate = 0.0278\n",
      "num_unrollings: 20\n",
      "Number of steps = 80001     Percentage = 49.04%     Time = 1609s     Learning rate = 0.0278\n",
      "num_unrollings: 40\n",
      "Number of steps = 80001     Percentage = 49.74%     Time = 3166s     Learning rate = 0.0278\n",
      "      number of nodes[1]: 32\n",
      "num_unrollings: 10\n",
      "Number of steps = 80001     Percentage = 50.08%     Time = 845s     Learning rate = 0.0278\n",
      "num_unrollings: 20\n",
      "Number of steps = 80001     Percentage = 50.92%     Time = 1646s     Learning rate = 0.0278\n",
      "num_unrollings: 40\n",
      "Number of steps = 80001     Percentage = 51.23%     Time = 3316s     Learning rate = 0.0278\n",
      "      number of nodes[1]: 64\n",
      "num_unrollings: 10\n",
      "Number of steps = 80001     Percentage = 51.53%     Time = 893s     Learning rate = 0.0278\n",
      "num_unrollings: 20\n",
      "Number of steps = 80001     Percentage = 52.53%     Time = 1725s     Learning rate = 0.0278\n",
      "num_unrollings: 40\n",
      "Number of steps = 80001     Percentage = 52.81%     Time = 3293s     Learning rate = 0.0278\n",
      "      number of nodes[1]: 128\n",
      "num_unrollings: 10\n",
      "Number of steps = 80001     Percentage = 53.56%     Time = 906s     Learning rate = 0.0278\n",
      "num_unrollings: 20\n",
      "Number of steps = 80001     Percentage = 54.13%     Time = 1715s     Learning rate = 0.0278\n",
      "num_unrollings: 40\n",
      "Number of steps = 80001     Percentage = 54.81%     Time = 3402s     Learning rate = 0.0278\n"
     ]
    }
   ],
   "source": [
    "num_layers_values = [-0.1, -0.01, 0., 0.01, 0.1]\n",
    "num_nodes_values = [16, 32, 64, 128]\n",
    "num_unrollings_values = [10, 20, 40]\n",
    "\n",
    "num_nodes_value = [0, 0]\n",
    "results_2GL = list()\n",
    "for num_nodes_value[0] in num_nodes_values:\n",
    "    print(' '*10, 'number of nodes[0]:', num_nodes_value[0])\n",
    "    for num_nodes_value[1] in num_nodes_values:\n",
    "        print(' '*5, 'number of nodes[1]:', num_nodes_value[1])\n",
    "        for num_unrollings_value in num_unrollings_values:\n",
    "            print('num_unrollings:', num_unrollings_value)\n",
    "            model = RNN(64,\n",
    "                                vocabulary,\n",
    "                                characters_positions_in_vocabulary,\n",
    "                                num_unrollings_value,\n",
    "                                2,\n",
    "                                [num_nodes_value[0], num_nodes_value[1]],\n",
    "                                train_text,\n",
    "                                valid_text,\n",
    "                       init_learning_rate=1.) \n",
    "            model.simple_run(200,\n",
    "                            'rnn/variables_nl2_ns80000/nn%s_%snu%s' % (num_nodes_value[0], num_nodes_value[1], num_unrollings_value),\n",
    "                             80000,\n",
    "                             1000,\n",
    "                                       5000,        #learning has a chance to be stopped after every block of steps\n",
    "                                       34,\n",
    "                                       0.9,\n",
    "                                       3) \n",
    "            results_2GL.extend(model._results)\n",
    "            model.destroy()\n",
    "            del model\n",
    "            gc.collect()"
   ]
  },
  {
   "cell_type": "code",
   "execution_count": 35,
   "metadata": {
    "collapsed": false
   },
   "outputs": [
    {
     "name": "stdout",
     "output_type": "stream",
     "text": [
      "Pickling rnn/rnn_ns_80000_hl_2000_dc_0.9_nl_2_nn16-128_nu_10-40.pickle.\n"
     ]
    }
   ],
   "source": [
    "folder_name = 'rnn'\n",
    "file_name = 'rnn_ns_80000_hl_2000_dc_0.9_nl_2_nn16-128_nu_10-40.pickle'\n",
    "force = True\n",
    "pickle_dump = {'results_GL': results_2GL}\n",
    "if not os.path.exists(folder_name):\n",
    "    try:\n",
    "        os.makedirs(folder_name)\n",
    "    except Exception as e:\n",
    "        print(\"Unable create folder '%s'\" % folder_name, ':', e)    \n",
    "print('Pickling %s.' % (folder_name + '/' + file_name))\n",
    "try:\n",
    "    with open(folder_name + '/' + file_name, 'wb') as f:\n",
    "        pickle.dump(pickle_dump, f, pickle.HIGHEST_PROTOCOL)\n",
    "except Exception as e:\n",
    "    print('Unable to save data to', file_name, ':', e)"
   ]
  },
  {
   "cell_type": "code",
   "execution_count": 10,
   "metadata": {
    "collapsed": true
   },
   "outputs": [],
   "source": [
    "folder_name = 'rnn'\n",
    "pickle_file = 'rnn_ns_80000_decay_steps_34_dc_0.9_nl_1_nn96-512_nu_10-40.pickle'\n",
    "\n",
    "with open(folder_name + '/' + pickle_file, 'rb') as f:\n",
    "  save = pickle.load(f)\n",
    "  results_GL = save['results_GL']\n",
    "  del save  # hint to help gc free up memory"
   ]
  },
  {
   "cell_type": "code",
   "execution_count": 11,
   "metadata": {
    "collapsed": true
   },
   "outputs": [],
   "source": [
    "pickle_file = 'rnn_ns_80000_hl_2000_dc_0.9_nl_2_nn16-128_nu_10-40.pickle'\n",
    "\n",
    "with open(folder_name + '/' + pickle_file, 'rb') as f:\n",
    "  save = pickle.load(f)\n",
    "  results_2GL = save['results_GL']\n",
    "  del save  # hint to help gc free up memory"
   ]
  },
  {
   "cell_type": "code",
   "execution_count": 9,
   "metadata": {
    "collapsed": false
   },
   "outputs": [],
   "source": [
    "folder_name = 'rnn'\n",
    "pickle_file = 'rnn_ns_80000_hl_2000_dc_0.9_nl_1_nn16-512_nu_10-40.pickle'\n",
    "\n",
    "with open(folder_name + '/' + pickle_file, 'rb') as f:\n",
    "  save = pickle.load(f)\n",
    "  results_old_GL = save['results_GL']\n",
    "  del save  # hint to help gc free up memory"
   ]
  },
  {
   "cell_type": "code",
   "execution_count": 12,
   "metadata": {
    "collapsed": false
   },
   "outputs": [
    {
     "name": "stdout",
     "output_type": "stream",
     "text": [
      "Network with such structure is already present\n"
     ]
    }
   ],
   "source": [
    "rnn_plots = ComparePlots('rnn')\n",
    "rnn_plots.add_network(results_old_GL, model._indices)\n",
    "rnn_plots.add_network(results_2GL, model._indices)\n",
    "\n"
   ]
  },
  {
   "cell_type": "code",
   "execution_count": 18,
   "metadata": {
    "collapsed": false
   },
   "outputs": [
    {
     "data": {
      "text/plain": [
       "1"
      ]
     },
     "execution_count": 18,
     "metadata": {},
     "output_type": "execute_result"
    }
   ],
   "source": [
    "rnn_plots.new_metadata('rnn_2', 'num_nodes[0]+num_nodes[1]', 'total_nodes')"
   ]
  },
  {
   "cell_type": "code",
   "execution_count": 15,
   "metadata": {
    "collapsed": false
   },
   "outputs": [
    {
     "name": "stderr",
     "output_type": "stream",
     "text": [
      "/usr/local/lib/python2.7/dist-packages/matplotlib/font_manager.py:1288: UserWarning: findfont: Font family [u'normal'] not found. Falling back to Bitstream Vera Sans\n",
      "  (prop.get_family(), self.defaultFamily[fontext]))\n"
     ]
    },
    {
     "data": {
      "image/png": "[encoded data removed]",
      "text/plain": [
       "<matplotlib.figure.Figure at 0x7f5a89062410>"
      ]
     },
     "metadata": {},
     "output_type": "display_data"
    }
   ],
   "source": [
    "plot_data, _ = rnn_plots.one_key_layout_data('rnn_1',\n",
    "                                                                'num_nodes[0]',\n",
    "                                         \"num_unrollings\")\n",
    "rnn_plots.save_layout(plot_data[0],\n",
    "                    'number of nodes effect (1 layer rnn)',\n",
    "                    ['plots'],\n",
    "                    'ns80000;decay_steps_40;ilr_2.;dc0.9')\n",
    "rnn_plots.draw(plot_data[0], 'number of nodes effect (1 layer rnn)')"
   ]
  },
  {
   "cell_type": "code",
   "execution_count": 19,
   "metadata": {
    "collapsed": false
   },
   "outputs": [
    {
     "name": "stdout",
     "output_type": "stream",
     "text": [
      "2.0\n"
     ]
    }
   ],
   "source": [
    "print(np.sqrt(4))"
   ]
  },
  {
   "cell_type": "code",
   "execution_count": 21,
   "metadata": {
    "collapsed": false
   },
   "outputs": [
    {
     "name": "stdout",
     "output_type": "stream",
     "text": [
      "9 %s 2 %s 11 %s 13 %s 6 %s 3 = \n",
      "9 / 2 + 11 - 13 * 6 * 3 =  45.0\n",
      "9 / 2 + 11 - 13 * 6 * 3 =  45.0\n",
      "9 - 2 * 11 + 13 / 6 * 3 =  45.0\n",
      "9 - 2 * 11 + 13 / 6 * 3 =  45.0\n"
     ]
    }
   ],
   "source": [
    "\n",
    "base = \"a=((((9.%s2.)%s11.)%s13.)%s6.)%s3.\"\n",
    "base_print = \"9 %s 2 %s 11 %s 13 %s 6 %s 3 = \"\n",
    "operation_sets = [['/', '/', '*', '+', '-'],\n",
    "                  ['/', '*', '*', '+', '-'],\n",
    "                  ['/', '*', '+', '+', '-'],\n",
    "                  ['/', '*', '+', '-', '-']]\n",
    "for operations1 in operation_sets:\n",
    "    for idx1, el1 in enumerate(operations1):\n",
    "        operations2 = list(operations1[:idx1])\n",
    "        operations2.extend(operations1[idx1+1:])\n",
    "        for idx2, el2 in enumerate(operations2):\n",
    "            operations3 = list(operations2[:idx2])\n",
    "            operations3.extend(operations2[idx2+1:])\n",
    "            for idx3, el3 in enumerate(operations3):\n",
    "                operations4 = list(operations3[:idx3])\n",
    "                operations4.extend(operations3[idx3+1:])\n",
    "                for idx4, el4 in enumerate(operations4):\n",
    "                    operations5 = list(operations4[:idx4])\n",
    "                    operations5.extend(operations4[idx4+1:])\n",
    "                    for _, el5 in enumerate(operations5):\n",
    "                        compute = str(base % (el1, el2, el3, el4, el5))\n",
    "                        exec(compute)\n",
    "                        if a==45:\n",
    "                            print(base_print % (el1, el2, el3, el4, el5), a)\n"
   ]
  },
  {
   "cell_type": "code",
   "execution_count": 19,
   "metadata": {
    "collapsed": false
   },
   "outputs": [
    {
     "name": "stdout",
     "output_type": "stream",
     "text": [
      "31\n"
     ]
    }
   ],
   "source": [
    "print(9+2*11)"
   ]
  },
  {
   "cell_type": "code",
   "execution_count": 12,
   "metadata": {
    "collapsed": false
   },
   "outputs": [
    {
     "name": "stdout",
     "output_type": "stream",
     "text": [
      "Number of steps = 20000     Percentage = 49.75%     Time = 654s     Learning rate = 0.0212\n"
     ]
    },
    {
     "ename": "KeyboardInterrupt",
     "evalue": "",
     "output_type": "error",
     "traceback": [
      "\u001b[0;31m---------------------------------------------------------------------------\u001b[0m",
      "\u001b[0;31mKeyboardInterrupt\u001b[0m                         Traceback (most recent call last)",
      "\u001b[0;32m<ipython-input-12-867ef8528813>\u001b[0m in \u001b[0;36m<module>\u001b[0;34m()\u001b[0m\n\u001b[1;32m     18\u001b[0m                                \u001b[0;36m0.9\u001b[0m\u001b[0;34m,\u001b[0m\u001b[0;34m\u001b[0m\u001b[0m\n\u001b[1;32m     19\u001b[0m                                \u001b[0;36m3\u001b[0m\u001b[0;34m,\u001b[0m\u001b[0;34m\u001b[0m\u001b[0m\n\u001b[0;32m---> 20\u001b[0;31m                     fixed_num_steps=True)\n\u001b[0m\u001b[1;32m     21\u001b[0m     \u001b[0mresults_GL\u001b[0m\u001b[0;34m.\u001b[0m\u001b[0mextend\u001b[0m\u001b[0;34m(\u001b[0m\u001b[0mmodel\u001b[0m\u001b[0;34m.\u001b[0m\u001b[0m_results\u001b[0m\u001b[0;34m)\u001b[0m\u001b[0;34m\u001b[0m\u001b[0m\n\u001b[1;32m     22\u001b[0m     \u001b[0mmodel\u001b[0m\u001b[0;34m.\u001b[0m\u001b[0mdestroy\u001b[0m\u001b[0;34m(\u001b[0m\u001b[0;34m)\u001b[0m\u001b[0;34m\u001b[0m\u001b[0m\n",
      "\u001b[0;32m/home/rumpelschtizhen/WIKI/model_module.pyc\u001b[0m in \u001b[0;36msimple_run\u001b[0;34m(self, num_averaging_iterations, save_path, min_num_steps, loss_frequency, block_of_steps, num_stairs, decay, stop_percent, optional_feed_dict, half_life_fixed, fixed_num_steps)\u001b[0m\n\u001b[1;32m    321\u001b[0m                                     \u001b[0moptional_feed_dict\u001b[0m\u001b[0;34m=\u001b[0m\u001b[0moptional_feed_dict\u001b[0m\u001b[0;34m,\u001b[0m\u001b[0;34m\u001b[0m\u001b[0m\n\u001b[1;32m    322\u001b[0m                                     \u001b[0mhalf_life_fixed\u001b[0m\u001b[0;34m=\u001b[0m\u001b[0mhalf_life_fixed\u001b[0m\u001b[0;34m,\u001b[0m\u001b[0;34m\u001b[0m\u001b[0m\n\u001b[0;32m--> 323\u001b[0;31m \t\t\t\t    fixed_num_steps=fixed_num_steps)\n\u001b[0m\u001b[1;32m    324\u001b[0m             \u001b[0mdata_for_plot\u001b[0m \u001b[0;34m=\u001b[0m \u001b[0mself\u001b[0m\u001b[0;34m.\u001b[0m\u001b[0mcalculate_percentages\u001b[0m\u001b[0;34m(\u001b[0m\u001b[0msession\u001b[0m\u001b[0;34m,\u001b[0m \u001b[0mnum_averaging_iterations\u001b[0m\u001b[0;34m)\u001b[0m\u001b[0;34m\u001b[0m\u001b[0m\n\u001b[1;32m    325\u001b[0m             \u001b[0;32mif\u001b[0m \u001b[0mself\u001b[0m\u001b[0;34m.\u001b[0m\u001b[0m_last_num_steps\u001b[0m \u001b[0;34m==\u001b[0m \u001b[0;36m0\u001b[0m\u001b[0;34m:\u001b[0m\u001b[0;34m\u001b[0m\u001b[0m\n",
      "\u001b[0;32m/home/rumpelschtizhen/WIKI/model_module.pyc\u001b[0m in \u001b[0;36mlearn\u001b[0;34m(self, session, min_num_steps, loss_frequency, block_of_steps, num_stairs, decay, stop_percent, optional_feed_dict, half_life_fixed, fixed_num_steps)\u001b[0m\n\u001b[1;32m    227\u001b[0m             _, l = session.run([self._optimizer,\n\u001b[1;32m    228\u001b[0m                                 self._loss],\n\u001b[0;32m--> 229\u001b[0;31m                                feed_dict=feed_dict)\n\u001b[0m\u001b[1;32m    230\u001b[0m             \u001b[0mmean_loss\u001b[0m \u001b[0;34m+=\u001b[0m \u001b[0ml\u001b[0m\u001b[0;34m\u001b[0m\u001b[0m\n\u001b[1;32m    231\u001b[0m             \u001b[0;32mif\u001b[0m \u001b[0mstep\u001b[0m \u001b[0;34m%\u001b[0m \u001b[0mloss_frequency\u001b[0m \u001b[0;34m==\u001b[0m \u001b[0;36m0\u001b[0m\u001b[0;34m:\u001b[0m\u001b[0;34m\u001b[0m\u001b[0m\n",
      "\u001b[0;32m/home/rumpelschtizhen/.local/lib/python2.7/site-packages/tensorflow/python/client/session.pyc\u001b[0m in \u001b[0;36mrun\u001b[0;34m(self, fetches, feed_dict, options, run_metadata)\u001b[0m\n\u001b[1;32m    380\u001b[0m     \u001b[0;32mtry\u001b[0m\u001b[0;34m:\u001b[0m\u001b[0;34m\u001b[0m\u001b[0m\n\u001b[1;32m    381\u001b[0m       result = self._run(None, fetches, feed_dict, options_ptr,\n\u001b[0;32m--> 382\u001b[0;31m                          run_metadata_ptr)\n\u001b[0m\u001b[1;32m    383\u001b[0m       \u001b[0;32mif\u001b[0m \u001b[0mrun_metadata\u001b[0m\u001b[0;34m:\u001b[0m\u001b[0;34m\u001b[0m\u001b[0m\n\u001b[1;32m    384\u001b[0m         \u001b[0mproto_data\u001b[0m \u001b[0;34m=\u001b[0m \u001b[0mtf_session\u001b[0m\u001b[0;34m.\u001b[0m\u001b[0mTF_GetBuffer\u001b[0m\u001b[0;34m(\u001b[0m\u001b[0mrun_metadata_ptr\u001b[0m\u001b[0;34m)\u001b[0m\u001b[0;34m\u001b[0m\u001b[0m\n",
      "\u001b[0;32m/home/rumpelschtizhen/.local/lib/python2.7/site-packages/tensorflow/python/client/session.pyc\u001b[0m in \u001b[0;36m_run\u001b[0;34m(self, handle, fetches, feed_dict, options, run_metadata)\u001b[0m\n\u001b[1;32m    653\u001b[0m     \u001b[0mmovers\u001b[0m \u001b[0;34m=\u001b[0m \u001b[0mself\u001b[0m\u001b[0;34m.\u001b[0m\u001b[0m_update_with_movers\u001b[0m\u001b[0;34m(\u001b[0m\u001b[0mfeed_dict_string\u001b[0m\u001b[0;34m,\u001b[0m \u001b[0mfeed_map\u001b[0m\u001b[0;34m)\u001b[0m\u001b[0;34m\u001b[0m\u001b[0m\n\u001b[1;32m    654\u001b[0m     results = self._do_run(handle, target_list, unique_fetches,\n\u001b[0;32m--> 655\u001b[0;31m                            feed_dict_string, options, run_metadata)\n\u001b[0m\u001b[1;32m    656\u001b[0m \u001b[0;34m\u001b[0m\u001b[0m\n\u001b[1;32m    657\u001b[0m     \u001b[0;31m# User may have fetched the same tensor multiple times, but we\u001b[0m\u001b[0;34m\u001b[0m\u001b[0;34m\u001b[0m\u001b[0m\n",
      "\u001b[0;32m/home/rumpelschtizhen/.local/lib/python2.7/site-packages/tensorflow/python/client/session.pyc\u001b[0m in \u001b[0;36m_do_run\u001b[0;34m(self, handle, target_list, fetch_list, feed_dict, options, run_metadata)\u001b[0m\n\u001b[1;32m    721\u001b[0m     \u001b[0;32mif\u001b[0m \u001b[0mhandle\u001b[0m \u001b[0;32mis\u001b[0m \u001b[0mNone\u001b[0m\u001b[0;34m:\u001b[0m\u001b[0;34m\u001b[0m\u001b[0m\n\u001b[1;32m    722\u001b[0m       return self._do_call(_run_fn, self._session, feed_dict, fetch_list,\n\u001b[0;32m--> 723\u001b[0;31m                            target_list, options, run_metadata)\n\u001b[0m\u001b[1;32m    724\u001b[0m     \u001b[0;32melse\u001b[0m\u001b[0;34m:\u001b[0m\u001b[0;34m\u001b[0m\u001b[0m\n\u001b[1;32m    725\u001b[0m       return self._do_call(_prun_fn, self._session, handle, feed_dict,\n",
      "\u001b[0;32m/home/rumpelschtizhen/.local/lib/python2.7/site-packages/tensorflow/python/client/session.pyc\u001b[0m in \u001b[0;36m_do_call\u001b[0;34m(self, fn, *args)\u001b[0m\n\u001b[1;32m    728\u001b[0m   \u001b[0;32mdef\u001b[0m \u001b[0m_do_call\u001b[0m\u001b[0;34m(\u001b[0m\u001b[0mself\u001b[0m\u001b[0;34m,\u001b[0m \u001b[0mfn\u001b[0m\u001b[0;34m,\u001b[0m \u001b[0;34m*\u001b[0m\u001b[0margs\u001b[0m\u001b[0;34m)\u001b[0m\u001b[0;34m:\u001b[0m\u001b[0;34m\u001b[0m\u001b[0m\n\u001b[1;32m    729\u001b[0m     \u001b[0;32mtry\u001b[0m\u001b[0;34m:\u001b[0m\u001b[0;34m\u001b[0m\u001b[0m\n\u001b[0;32m--> 730\u001b[0;31m       \u001b[0;32mreturn\u001b[0m \u001b[0mfn\u001b[0m\u001b[0;34m(\u001b[0m\u001b[0;34m*\u001b[0m\u001b[0margs\u001b[0m\u001b[0;34m)\u001b[0m\u001b[0;34m\u001b[0m\u001b[0m\n\u001b[0m\u001b[1;32m    731\u001b[0m     \u001b[0;32mexcept\u001b[0m \u001b[0merrors\u001b[0m\u001b[0;34m.\u001b[0m\u001b[0mOpError\u001b[0m \u001b[0;32mas\u001b[0m \u001b[0me\u001b[0m\u001b[0;34m:\u001b[0m\u001b[0;34m\u001b[0m\u001b[0m\n\u001b[1;32m    732\u001b[0m       \u001b[0mmessage\u001b[0m \u001b[0;34m=\u001b[0m \u001b[0mcompat\u001b[0m\u001b[0;34m.\u001b[0m\u001b[0mas_text\u001b[0m\u001b[0;34m(\u001b[0m\u001b[0me\u001b[0m\u001b[0;34m.\u001b[0m\u001b[0mmessage\u001b[0m\u001b[0;34m)\u001b[0m\u001b[0;34m\u001b[0m\u001b[0m\n",
      "\u001b[0;32m/home/rumpelschtizhen/.local/lib/python2.7/site-packages/tensorflow/python/client/session.pyc\u001b[0m in \u001b[0;36m_run_fn\u001b[0;34m(session, feed_dict, fetch_list, target_list, options, run_metadata)\u001b[0m\n\u001b[1;32m    710\u001b[0m         return tf_session.TF_Run(session, options,\n\u001b[1;32m    711\u001b[0m                                  \u001b[0mfeed_dict\u001b[0m\u001b[0;34m,\u001b[0m \u001b[0mfetch_list\u001b[0m\u001b[0;34m,\u001b[0m \u001b[0mtarget_list\u001b[0m\u001b[0;34m,\u001b[0m\u001b[0;34m\u001b[0m\u001b[0m\n\u001b[0;32m--> 712\u001b[0;31m                                  status, run_metadata)\n\u001b[0m\u001b[1;32m    713\u001b[0m \u001b[0;34m\u001b[0m\u001b[0m\n\u001b[1;32m    714\u001b[0m     \u001b[0;32mdef\u001b[0m \u001b[0m_prun_fn\u001b[0m\u001b[0;34m(\u001b[0m\u001b[0msession\u001b[0m\u001b[0;34m,\u001b[0m \u001b[0mhandle\u001b[0m\u001b[0;34m,\u001b[0m \u001b[0mfeed_dict\u001b[0m\u001b[0;34m,\u001b[0m \u001b[0mfetch_list\u001b[0m\u001b[0;34m)\u001b[0m\u001b[0;34m:\u001b[0m\u001b[0;34m\u001b[0m\u001b[0m\n",
      "\u001b[0;31mKeyboardInterrupt\u001b[0m: "
     ]
    }
   ],
   "source": [
    "iter_num = 3\n",
    "results_GL = list()   \n",
    "for i in range(iter_num):\n",
    "    model = RNN(64,\n",
    "                             vocabulary,\n",
    "                             characters_positions_in_vocabulary,\n",
    "                             30,\n",
    "                             2,\n",
    "                             [128, 128],\n",
    "                             train_text,\n",
    "                             valid_text)\n",
    "    model.simple_run(200,\n",
    "                         'rnn/estimate_variables/average#%s' % i,\n",
    "                            20000,\n",
    "                               4000,\n",
    "                               5000,        #learning has a chance to be stopped after every block of steps\n",
    "                               30,\n",
    "                               0.9,\n",
    "                               3,\n",
    "                    fixed_num_steps=True)\n",
    "    results_GL.extend(model._results)\n",
    "    model.destroy()\n",
    "    del model"
   ]
  },
  {
   "cell_type": "code",
   "execution_count": null,
   "metadata": {
    "collapsed": true
   },
   "outputs": [],
   "source": []
  }
 ],
 "metadata": {
  "kernelspec": {
   "display_name": "Python 2",
   "language": "python",
   "name": "python2"
  },
  "language_info": {
   "codemirror_mode": {
    "name": "ipython",
    "version": 2
   },
   "file_extension": ".py",
   "mimetype": "text/x-python",
   "name": "python",
   "nbconvert_exporter": "python",
   "pygments_lexer": "ipython2",
   "version": "2.7.12"
  }
 },
 "nbformat": 4,
 "nbformat_minor": 1
}
