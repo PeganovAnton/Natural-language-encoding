{
 "cells": [
  {
   "cell_type": "code",
   "execution_count": 1,
   "metadata": {
    "collapsed": false
   },
   "outputs": [],
   "source": [
    "# These are all the modules we'll be using later. Make sure you can import them\n",
    "# before proceeding further.\n",
    "from __future__ import print_function\n",
    "import numpy as np\n",
    "import random\n",
    "import string\n",
    "import tensorflow as tf\n",
    "from tensorflow.python.ops.rnn_cell import _linear\n",
    "import zipfile\n",
    "from six.moves import range\n",
    "from six.moves.urllib.request import urlretrieve\n",
    "import collections\n",
    "import matplotlib.pyplot as plt\n",
    "import codecs\n",
    "import time\n",
    "import os\n",
    "import gc\n",
    "from six.moves import cPickle as pickle\n",
    "\n",
    "from plot_module import text_plot\n",
    "from plot_module import structure_vocabulary_plots\n",
    "\n",
    "from model_module import maybe_download\n",
    "from model_module import read_data\n",
    "from model_module import check_not_one_byte\n",
    "from model_module import id2char\n",
    "from model_module import char2id\n",
    "from model_module import BatchGenerator\n",
    "from model_module import characters\n",
    "from model_module import batches2string\n",
    "from model_module import logprob\n",
    "from model_module import sample_distribution\n",
    "from model_module import MODEL"
   ]
  },
  {
   "cell_type": "code",
   "execution_count": 2,
   "metadata": {
    "collapsed": false
   },
   "outputs": [
    {
     "name": "stdout",
     "output_type": "stream",
     "text": [
      "number of not one byte characters:  0\n",
      "min order index:  9\n",
      "max order index:  255\n",
      "total number of characters:  196\n"
     ]
    }
   ],
   "source": [
    "if not os.path.exists('enwik8_filtered'):\n",
    "    if not os.path.exists('enwik8'):\n",
    "        filename = maybe_download('enwik8.zip', 36445475)\n",
    "    full_text = read_data(filename)\n",
    "    new_text = u\"\"\n",
    "    new_text_list = list()\n",
    "    for i in range(len(full_text)):\n",
    "        if (i+1) % 10000000 == 0:\n",
    "            print(\"%s characters are filtered\" % i)\n",
    "        if ord(full_text[i]) < 256:\n",
    "            new_text_list.append(full_text[i])\n",
    "    text = new_text.join(new_text_list)\n",
    "    del new_text_list\n",
    "    del new_text\n",
    "    del full_text\n",
    "\n",
    "    (not_one_byte_counter, min_character_order_index, max_character_order_index, number_of_characters, present_characters_indices) = check_not_one_byte(text)\n",
    "\n",
    "    print(\"number of not one byte characters: \", not_one_byte_counter) \n",
    "    print(\"min order index: \", min_character_order_index)\n",
    "    print(\"max order index: \", max_character_order_index)\n",
    "    print(\"total number of characters: \", number_of_characters)\n",
    "    \n",
    "    f = open('enwik8_filtered', 'w')\n",
    "    f.write(text.encode('utf8'))\n",
    "    f.close()\n",
    "    \n",
    "else:\n",
    "    f = open('enwik8_filtered', 'r')\n",
    "    text = f.read().decode('utf8')\n",
    "    f.close() \n",
    "    (not_one_byte_counter, min_character_order_index, max_character_order_index, number_of_characters, present_characters_indices) = check_not_one_byte(text)\n",
    "\n",
    "    print(\"number of not one byte characters: \", not_one_byte_counter) \n",
    "    print(\"min order index: \", min_character_order_index)\n",
    "    print(\"max order index: \", max_character_order_index)\n",
    "    print(\"total number of characters: \", number_of_characters)    "
   ]
  },
  {
   "cell_type": "code",
   "execution_count": 3,
   "metadata": {
    "collapsed": false
   },
   "outputs": [
    {
     "name": "stdout",
     "output_type": "stream",
     "text": [
      "99350000 n in the February 1934 riots, anarchists divided over a 'united \n",
      "10000 ture in Mutual Aid: A Factor of Evolution (1897). Subsequent ana\n"
     ]
    }
   ],
   "source": [
    "#different\n",
    "offset = 20000\n",
    "valid_size = 10000\n",
    "valid_text = text[offset:offset+valid_size]\n",
    "train_text = text[offset+valid_size:]\n",
    "train_size = len(train_text)\n",
    "print(train_size, train_text[:64])\n",
    "print(valid_size, valid_text[:64])"
   ]
  },
  {
   "cell_type": "code",
   "execution_count": 4,
   "metadata": {
    "collapsed": false
   },
   "outputs": [
    {
     "name": "stdout",
     "output_type": "stream",
     "text": [
      "Vocabulary:  \t\n",
      " !\"#$%&'()*+,-./0123456789:;<=>?@ABCDEFGHIJKLMNOPQRSTUVWXYZ[\\]^_`abcdefghijklmnopqrstuvwxyz{|}~ ¡¢£¤¥¦§¨©ª«¬­®¯°±²³´µ¶·¸¹º»¼½¾¿ÀÁÂÃÄÅÆÇÈÉÊËÌÍÎÏÐÑÒÓÔÕÖ×ØÙÚÛÜÝÞßàáâãäåæçèéêëìíîïðñòóôõö÷øùúûüýþÿ\n",
      "char2id(u'a') = 67,  char2id(u'z') = 92,  char2id(u' ') = 2\n",
      "id2char(78) = l,  id2char(156) = Ø,  id2char(140) = È\n"
     ]
    }
   ],
   "source": [
    "vocabulary_size = number_of_characters\n",
    "vocabulary = list()\n",
    "characters_positions_in_vocabulary = list()\n",
    "\n",
    "character_position_in_vocabulary = 0\n",
    "for i in range(256):\n",
    "    if present_characters_indices[i]:\n",
    "        vocabulary.append(unichr(i))\n",
    "        characters_positions_in_vocabulary.append(character_position_in_vocabulary)\n",
    "        character_position_in_vocabulary += 1\n",
    "    else:\n",
    "        characters_positions_in_vocabulary.append(-1)\n",
    "\n",
    "\n",
    "string_vocabulary = u\"\"\n",
    "for i in range(vocabulary_size):\n",
    "    string_vocabulary += vocabulary[i]\n",
    "print(\"Vocabulary: \", string_vocabulary)\n",
    "print(\"char2id(u'a') = %s,  char2id(u'z') = %s,  char2id(u' ') = %s\" % (char2id(u'a', characters_positions_in_vocabulary),\n",
    "                                                                        char2id(u'z', characters_positions_in_vocabulary),\n",
    "                                                                        char2id(u' ', characters_positions_in_vocabulary)))\n",
    "print(\"id2char(78) = %s,  id2char(156) = %s,  id2char(140) = %s\" % (id2char(78,\n",
    "                                                                            vocabulary),\n",
    "                                                                    id2char(156,\n",
    "                                                                            vocabulary),\n",
    "                                                                    id2char(140,\n",
    "                                                                            vocabulary)))\n"
   ]
  },
  {
   "cell_type": "code",
   "execution_count": 5,
   "metadata": {
    "collapsed": false
   },
   "outputs": [
    {
     "name": "stdout",
     "output_type": "stream",
     "text": [
      "[u'n in the Fe', u\".\\n* ''[[Con\", u\"oldier's so\", u'\\xf6hm-Bawerk ', u'tification,', u' warrior, a', u'uot; would ', u' 115       ', u'orbata acid', u'>\\n      <co', u'ate, the co', u'other natio', u'ing the his', u'et bromine;', u' Christ&quo', u' average]] ', u' their home', u'ks and a ri', u'on]]/[[Joel', u' new era fo', u'aph that th', u' known as t', u's from the ', u'ast majorit', u'trips, thou', u'ent of regi', u'metric aspe', u'd named by ', u'Z</timestam', u'tude of 1 c', u'!&quot; [ht', u'o ==\\n\\n* [[D', u'[[Belarusia', u'iton]], Rus', u'ccessful si', u'es his theo', u' explain th', u' the South.', u'sing with a', u'd ball is h', u'e could des', u'[Friedrich ', u'th virtuall', u' foreign ac', u'variant in ', u'd and watch', u\"t; ''[[Foot\", u' became Lea', u'stern Europ', u' </contribu', u'ese terms n', u'arting in t', u'gence of th', u'of the cons', u'uickly swit', u', thus star', u'lly develop', u'g the offic', u'esult, the ', u'red HMMWV. ', u'ament is de', u'University ', u'&quot;&gt;1', u'solely deco']\n",
      "[u'ebruary 193', u'ncentrate (', u'ong.\\n\\n==Com', u' wrote exte', u', when used', u'and elder h', u' have had o', u'        Sas', u'do]]\\n[[fa: ', u'omment>fix<', u'ombined sal', u'ons who fol', u'story of th', u'; however, ', u'ot; (Mosiah', u' of .847 wa', u'e field [[O', u'idge of fur', u'l Schumache', u'or Battle.n', u'he animator', u'the [[Pacif', u' local [[co', u'ty of execu', u'ugh several', u'istrars, de', u'ects will b', u' [[Bede]] i', u'mp>\\n      <', u'centimetre.', u'ttp://www.e', u'Derivative ', u'an language', u'ssian physi', u'ingles to d', u'ory (ISBN 0', u'he ability ', u'. He was of', u'a synthesiz', u'his last co', u'scribe as e', u' von Wieser', u'ly no-one t', u'ctors or th', u' the first ', u'hed it grow', u'tball World', u'ader of the', u'pe, many of', u'utor>\\n     ', u'not only de', u'the mid-198', u'his scene (', u'spirators]]', u'tched from ', u'rting the S', u'ped than Ma', u'ces of [[Ea', u' leaders of', u' The M1114 ', u'eemed incom', u' System]]\\n*', u'14,772&lt;/', u'orative. Th']\n",
      "[u'tu']\n",
      "[u'ur']\n"
     ]
    }
   ],
   "source": [
    "batch_size_test=64\n",
    "num_unrollings_test=10\n",
    "\n",
    "train_batches_test = BatchGenerator(train_text,\n",
    "                                    batch_size_test,\n",
    "                                    vocabulary_size,\n",
    "                                    characters_positions_in_vocabulary,\n",
    "                                    num_unrollings_test)\n",
    "valid_batches_test = BatchGenerator(valid_text,\n",
    "                                    1,\n",
    "                                    vocabulary_size,\n",
    "                                    characters_positions_in_vocabulary,\n",
    "                                    1)\n",
    "\n",
    "print(batches2string(train_batches_test.next(), vocabulary))\n",
    "print(batches2string(train_batches_test.next(), vocabulary))\n",
    "print(batches2string(valid_batches_test.next(), vocabulary))\n",
    "print(batches2string(valid_batches_test.next(), vocabulary))"
   ]
  },
  {
   "cell_type": "code",
   "execution_count": 6,
   "metadata": {
    "collapsed": false
   },
   "outputs": [],
   "source": [
    "\n",
    "class LSTMgf(MODEL):\n",
    "    def __init__(self,\n",
    "                 batch_size,\n",
    "                 vocabulary,\n",
    "                 characters_positions_in_vocabulary,\n",
    "                 num_unrollings,\n",
    "                 num_layers,\n",
    "                 num_nodes,\n",
    "                 train_text,\n",
    "                 valid_text):\n",
    "        self._results = list()\n",
    "        self._batch_size = batch_size\n",
    "        self._vocabulary = vocabulary\n",
    "        self._vocabulary_size = len(vocabulary)\n",
    "        self._characters_positions_in_vocabulary = characters_positions_in_vocabulary\n",
    "        self._num_unrollings = num_unrollings\n",
    "        self._num_layers = num_layers\n",
    "        self._num_nodes = num_nodes\n",
    "        self._train_text = train_text\n",
    "        self._valid_text = valid_text\n",
    "        self._valid_size = len(valid_text)\n",
    "        self._indices = {\"batch_size\": 0,\n",
    "                         \"num_unrollings\": 1,\n",
    "                         \"num_layers\": 2,\n",
    "                         \"num_nodes\": 3,\n",
    "                         \"half_life\": 4,\n",
    "                         \"decay\": 5,\n",
    "                         \"gate_fine\": 6,\n",
    "                         \"num_steps\": 7,\n",
    "                         \"averaging_number\": 8,\n",
    "                         \"type\": 9}\n",
    "        self._graph = tf.Graph()\n",
    "        \n",
    "        self._last_num_steps = 0\n",
    "        with self._graph.as_default(): \n",
    "            with self._graph.device('/gpu:0'): \n",
    "                #list of LSTM cells in multilayered network\n",
    "                cell_list = list()\n",
    "                for i in range(self._num_layers):\n",
    "                    cell_list.append(tf.nn.rnn_cell.BasicLSTMCell(self._num_nodes[i], state_is_tuple=True))\n",
    "                LSTM = tf.nn.rnn_cell.MultiRNNCell(cell_list, state_is_tuple=True)\n",
    "\n",
    "                weights_initializer = tf.truncated_normal_initializer(mean=-0.1, stddev=0.1, seed=None, dtype=tf.float32)\n",
    "                LSTM_scope = 'LSTM'\n",
    "                with tf.variable_scope(LSTM_scope, reuse=False):\n",
    "                  for i in range(self._num_layers):\n",
    "                    with tf.variable_scope(\"Cell%d\" % i):\n",
    "                      with tf.variable_scope(\"BasicLSTMCell\"):\n",
    "                        with tf.variable_scope(\"Linear\"):\n",
    "                          if i == 0:\n",
    "                            input_dim = self._vocabulary_size + cell_list[i].output_size\n",
    "                          else:\n",
    "                            input_dim = cell_list[i-1].output_size + cell_list[i].output_size\n",
    "                          output_dim = 4*cell_list[i].output_size\n",
    "                          tf.get_variable(\"Matrix\", [input_dim, output_dim], initializer=weights_initializer)\n",
    "                          tf.get_variable(\"Bias\", \n",
    "                                          initializer=tf.zeros_initializer(shape=[output_dim], dtype=tf.float32))\n",
    "\n",
    "                # classifier \n",
    "                weights = tf.Variable(tf.truncated_normal([LSTM.output_size, self._vocabulary_size], stddev = 0.1))\n",
    "                bias = tf.Variable(tf.zeros([self._vocabulary_size]))\n",
    "                \n",
    "                \"\"\"gate fine\"\"\"\n",
    "                self.gf = tf.placeholder(tf.float32)\n",
    "                \n",
    "                \"\"\"PLACEHOLDERS train data\"\"\"\n",
    "                self._train_data = list()\n",
    "                for _ in range(self._num_unrollings + 1):\n",
    "                    self._train_data.append(\n",
    "                        tf.placeholder(tf.float32, shape=[self._batch_size, self._vocabulary_size]))\n",
    "                train_inputs = self._train_data[: self._num_unrollings]\n",
    "                train_labels = self._train_data[1:]  # labels are inputs shifted by one time step.\n",
    "                # Unrolled LSTM loop.\n",
    "\n",
    "                saved_state = list()\n",
    "                for i in range(self._num_layers):\n",
    "                    zero_c, zero_h = cell_list[i].zero_state(self._batch_size, tf.float32)\n",
    "                    shape_c = zero_c.get_shape().as_list()\n",
    "                    shape_h = zero_h.get_shape().as_list()\n",
    "                    saved_state.append((tf.Variable(tf.zeros(shape_c), trainable=False),\n",
    "                                        tf.Variable(tf.zeros(shape_h), trainable=False)))    #AMENDMENT!!!!\n",
    "\n",
    "                    \n",
    "                Matrices = list()\n",
    "                Biases = list()\n",
    "                gates = list()\n",
    "                with tf.variable_scope(LSTM_scope, reuse=True):\n",
    "                    for i in range(self._num_layers):\n",
    "                        with tf.variable_scope(\"Cell%d\" % i):\n",
    "                            with tf.variable_scope(\"BasicLSTMCell/Linear\"):\n",
    "                                Matrices.append(tf.get_variable(\"Matrix\"))\n",
    "                                Biases.append(tf.get_variable(\"Bias\"))                    \n",
    "                    \n",
    "    \n",
    "                outputs = list()\n",
    "                state = saved_state\n",
    "                for tr_i in train_inputs:\n",
    "                    with tf.variable_scope('', reuse=True): \n",
    "   \n",
    "                        cur_inp = tr_i\n",
    "                        one_letter_gates = list()\n",
    "                        for layer_num in range(self._num_layers):\n",
    "                            concat = tf.matmul(tf.concat(1, [cur_inp,\n",
    "                                                             state[layer_num][1]]),\n",
    "                                               Matrices[layer_num]) + Biases[layer_num]\n",
    "                            i, _, f, _ = tf.split(1, 4, concat)\n",
    "                            one_letter_gates.append(tf.concat(0, [tf.sigmoid(i),\n",
    "                                                                  tf.sigmoid(f)]))\n",
    "                            with tf.variable_scope(LSTM_scope, reuse=True):\n",
    "                                with tf.variable_scope(\"Cell%d\" % layer_num):\n",
    "                                    cur_inp, _ = cell_list[layer_num](cur_inp, state[layer_num])\n",
    "                        \n",
    "                        gates.append(tf.concat(1, one_letter_gates))\n",
    "                        output, state = LSTM(tr_i, state, scope=LSTM_scope)\n",
    "                    outputs.append(output)\n",
    "                gates = tf.pack(gates)\n",
    "\n",
    "                save_list = list()\n",
    "                for i in range(self._num_layers):\n",
    "                    save_list.append(saved_state[i][0].assign(state[i][0]))\n",
    "                    save_list.append(saved_state[i][1].assign(state[i][1]))\n",
    "                \n",
    "                \"\"\"skip operation\"\"\"\n",
    "                self._skip_operation = tf.group(*save_list)\n",
    "\n",
    "                with tf.control_dependencies(save_list):\n",
    "                        # Classifier.\n",
    "                    logits = tf.nn.xw_plus_b(tf.concat(0, outputs), weights, bias)\n",
    "                    \"\"\"loss\"\"\"\n",
    "                    self._loss = tf.reduce_mean(\n",
    "                        tf.nn.softmax_cross_entropy_with_logits(\n",
    "                            logits, tf.concat(0, train_labels))) + self.gf * tf.reduce_sum(gates)\n",
    "                # Optimizer.\n",
    "                self._global_step = tf.Variable(0)\n",
    "                \"\"\"PLACEHOLDERS half life and decay\"\"\"\n",
    "                self._half_life = tf.placeholder(tf.int32)\n",
    "                self._decay = tf.placeholder(tf.float32)\n",
    "                \"\"\"learning rate\"\"\"\n",
    "                self._learning_rate = tf.train.exponential_decay(10.0,\n",
    "                                                                 self._global_step,\n",
    "                                                                 self._half_life,\n",
    "                                                                 self._decay,\n",
    "                                                                 staircase=True)\n",
    "                optimizer = tf.train.GradientDescentOptimizer(self._learning_rate)\n",
    "                gradients, v = zip(*optimizer.compute_gradients(self._loss))\n",
    "                gradients, _ = tf.clip_by_global_norm(gradients, 1.25)\n",
    "                \"\"\"optimizer\"\"\"\n",
    "                self._optimizer = optimizer.apply_gradients(zip(gradients, v), global_step=self._global_step)\n",
    "                \"\"\"train prediction\"\"\"\n",
    "                self._train_prediction = tf.nn.softmax(logits)\n",
    "\n",
    "                # Sampling and validation eval: batch 1, no unrolling.\n",
    "                saved_sample_state = list()\n",
    "\n",
    "                for i in range(self._num_layers):\n",
    "                    sample_zero_c, sample_zero_h = cell_list[i].zero_state(1, tf.float32)\n",
    "                    sample_shape_c = sample_zero_c.get_shape().as_list()\n",
    "                    sample_shape_h = sample_zero_h.get_shape().as_list()\n",
    "                    saved_sample_state.append((tf.Variable(tf.zeros(sample_shape_c)), tf.Variable(tf.zeros(sample_shape_h))))  \n",
    "                \"\"\"PLACEHOLDER sample input\"\"\"\n",
    "                self._sample_input = tf.placeholder(tf.float32, shape=[1, self._vocabulary_size])\n",
    "\n",
    "                reset_list = list()\n",
    "                for i in range(self._num_layers):\n",
    "                    sample_zero_c, sample_zero_h = cell_list[i].zero_state(1, tf.float32)\n",
    "                    sample_shape_c = sample_zero_c.get_shape().as_list()\n",
    "                    sample_shape_h = sample_zero_h.get_shape().as_list()\n",
    "                    reset_list.append(saved_sample_state[i][0].assign(tf.zeros(sample_shape_c)))\n",
    "                    reset_list.append(saved_sample_state[i][1].assign(tf.zeros(sample_shape_h)))\n",
    "                \"\"\"reste sample state\"\"\"\n",
    "                self._reset_sample_state = tf.group(*reset_list)\n",
    "\n",
    "                with tf.variable_scope('', reuse=True): \n",
    "                    sample_output, sample_state = LSTM(self._sample_input, saved_sample_state, scope=LSTM_scope)\n",
    "\n",
    "                sample_save_list = list()\n",
    "                for i in range(self._num_layers):\n",
    "                    sample_save_list.append(saved_sample_state[i][0].assign(sample_state[i][0]))\n",
    "                    sample_save_list.append(saved_sample_state[i][1].assign(sample_state[i][1]))    \n",
    "\n",
    "                with tf.control_dependencies(sample_save_list):\n",
    "                    \"\"\"sample prediction\"\"\"\n",
    "                    self._sample_prediction = tf.nn.softmax(tf.nn.xw_plus_b(sample_output, weights, bias)) \n",
    "                \n",
    "                Matrices = list()\n",
    "                Biases = list()\n",
    "                gates = list()\n",
    "                with tf.variable_scope(LSTM_scope, reuse=True):\n",
    "                    for i in range(self._num_layers):\n",
    "                        with tf.variable_scope(\"Cell%d\" % i):\n",
    "                            with tf.variable_scope(\"BasicLSTMCell/Linear\"):\n",
    "                                Matrices.append(tf.get_variable(\"Matrix\"))\n",
    "                                Biases.append(tf.get_variable(\"Bias\"))\n",
    "                cur_inp = self._sample_input\n",
    "                for layer_num in range(self._num_layers):\n",
    "                    concat = tf.matmul(tf.concat(1, [cur_inp,\n",
    "                                                     saved_sample_state[layer_num][1]]),\n",
    "                                       Matrices[layer_num]) + Biases[layer_num]\n",
    "                    i, _, f, o = tf.split(1, 4, concat)\n",
    "                    gates.append(tf.concat(0,\n",
    "                                           [tf.sigmoid(i),\n",
    "                                            tf.sigmoid(f),\n",
    "                                            tf.sigmoid(o)]))\n",
    "                    with tf.variable_scope(LSTM_scope, reuse=True):\n",
    "                        with tf.variable_scope(\"Cell%d\" % layer_num):\n",
    "                            cur_inp, _ = cell_list[layer_num](cur_inp, saved_sample_state[layer_num])\n",
    "                    \n",
    "                \"\"\"gates\"\"\"\n",
    "                # important changes were made\n",
    "                self.gates = tf.concat(1, gates)\n",
    "                \n",
    "                \"\"\"saver\"\"\"\n",
    "                self.saver = tf.train.Saver(max_to_keep=None)\n",
    "                            \n",
    "                        \n",
    "    \n",
    "    def _generate_metadata(self, half_life, decay, num_averaging_iterations, gf):\n",
    "        metadata = list()\n",
    "        metadata.append(self._batch_size)\n",
    "        metadata.append(self._num_unrollings)\n",
    "        metadata.append(self._num_layers)\n",
    "        metadata.append(self._num_nodes)\n",
    "        metadata.append(half_life)\n",
    "        metadata.append(decay)\n",
    "        metadata.append(gf)\n",
    "        metadata.append(self._last_num_steps)\n",
    "        metadata.append(num_averaging_iterations)\n",
    "        metadata.append('simple_gf')\n",
    "        return metadata\n",
    "        \n",
    "        \n",
    "    def get_gates(self, session, num_strings=10, length=75, start_positions=None):\n",
    "        self._reset_sample_state.run()\n",
    "        self._valid_batches = BatchGenerator(self._valid_text,\n",
    "                                             1,\n",
    "                                             self._vocabulary_size,\n",
    "                                             self._characters_positions_in_vocabulary,\n",
    "                                             1)\n",
    "        if start_positions is None:\n",
    "            start_positions = list()\n",
    "            if self._valid_size / num_strings < length:\n",
    "                num_strings = self._valid_size / length\n",
    "            for i in range(num_strings):\n",
    "                start_positions.append(i* (self._valid_size / num_strings) + self._valid_size / num_strings / 2)\n",
    "            while self._valid_size - start_positions[-1] < length:\n",
    "                del start_positions[-1]\n",
    "        text_list = list()\n",
    "        gate_list = list()\n",
    "        collect_gates = False\n",
    "        letters_parsed = -1\n",
    "        for idx in range(self._valid_size):\n",
    "            b = self._valid_batches.next()\n",
    "            \n",
    "            if idx in start_positions or collect_gates: \n",
    "                if letters_parsed == -1:\n",
    "                    letters_parsed = 0\n",
    "                    text = u\"\"\n",
    "                    g_list = list()\n",
    "                    collect_gates = True\n",
    "                text += characters(b[0], self._vocabulary)[0]\n",
    "                g_list.append(self.gates.eval({self._sample_input: b[0]}))\n",
    "                letters_parsed += 1\n",
    "                if letters_parsed >= length:\n",
    "                    collect_gates = False\n",
    "                    gate_list.append(g_list)\n",
    "                    text_list.append(text)\n",
    "                    letters_parsed = -1\n",
    "                    \n",
    "            _ = self._sample_prediction.eval({self._sample_input: b[0]})\n",
    "        return text_list, gate_list   "
   ]
  },
  {
   "cell_type": "code",
   "execution_count": 7,
   "metadata": {
    "collapsed": false
   },
   "outputs": [],
   "source": [
    "model = LSTMgf(64,\n",
    "                 vocabulary,\n",
    "                 characters_positions_in_vocabulary,\n",
    "                 20,\n",
    "                 1,\n",
    "                 [64],\n",
    "                 train_text,\n",
    "                 valid_text)"
   ]
  },
  {
   "cell_type": "code",
   "execution_count": 8,
   "metadata": {
    "collapsed": false
   },
   "outputs": [
    {
     "name": "stdout",
     "output_type": "stream",
     "text": [
      "\n",
      "gate fine:  0.0001\n",
      "Number of steps = 40001     Percentage = 31.98%     Time = 613s     Leraning rate = 1.22\n",
      "\n",
      "gate fine:  6.30958615424e-05\n",
      "Number of steps = 40001     Percentage = 32.06%     Time = 607s     Leraning rate = 1.22\n",
      "\n",
      "gate fine:  3.98108774378e-05\n",
      "Number of steps = 40001     Percentage = 35.80%     Time = 609s     Leraning rate = 1.22\n",
      "\n",
      "gate fine:  2.5119016107e-05\n",
      "Number of steps = 40001     Percentage = 36.65%     Time = 609s     Leraning rate = 1.22\n",
      "\n",
      "gate fine:  1.58490596237e-05\n",
      "Number of steps = 40001     Percentage = 40.65%     Time = 600s     Leraning rate = 1.22\n",
      "\n",
      "gate fine:  1.00001007159e-05\n",
      "Number of steps = 40001     Percentage = 44.28%     Time = 612s     Leraning rate = 1.22\n",
      "\n",
      "gate fine:  6.30964970184e-06\n",
      "Number of steps = 40001     Percentage = 43.74%     Time = 614s     Leraning rate = 1.22\n",
      "\n",
      "gate fine:  3.98112783969e-06\n",
      "Number of steps = 40001     Percentage = 48.83%     Time = 616s     Leraning rate = 1.22\n",
      "\n",
      "gate fine:  2.51192690956e-06\n",
      "Number of steps = 40001     Percentage = 50.84%     Time = 613s     Leraning rate = 1.22\n",
      "\n",
      "gate fine:  1.5849219249e-06\n",
      "Number of steps = 40001     Percentage = 51.05%     Time = 613s     Leraning rate = 1.22\n",
      "\n",
      "gate fine:  1.00002014329e-06\n",
      "Number of steps = 40001     Percentage = 51.21%     Time = 610s     Leraning rate = 1.22\n",
      "\n",
      "gate fine:  6.30971325007e-07\n",
      "Number of steps = 45001     Percentage = 51.20%     Time = 676s     Leraning rate = 0.98\n",
      "\n",
      "gate fine:  3.98116793599e-07\n",
      "Number of steps = 45001     Percentage = 50.81%     Time = 679s     Leraning rate = 1.22\n",
      "\n",
      "gate fine:  2.51195220867e-07\n",
      "Number of steps = 45001     Percentage = 51.75%     Time = 675s     Leraning rate = 1.22\n",
      "\n",
      "gate fine:  1.58493788759e-07\n",
      "Number of steps = 45001     Percentage = 51.18%     Time = 673s     Leraning rate = 1.22\n",
      "\n",
      "gate fine:  1.00003021509e-07\n",
      "Number of steps = 45001     Percentage = 51.25%     Time = 675s     Leraning rate = 1.22\n",
      "\n",
      "gate fine:  6.30977679895e-08\n",
      "Number of steps = 50001     Percentage = 51.98%     Time = 751s     Leraning rate = 0.98\n",
      "\n",
      "gate fine:  3.9812080327e-08\n",
      "Number of steps = 50001     Percentage = 51.37%     Time = 748s     Leraning rate = 1.22\n",
      "\n",
      "gate fine:  2.51197750803e-08\n",
      "Number of steps = 50001     Percentage = 51.35%     Time = 755s     Leraning rate = 1.22\n",
      "\n",
      "gate fine:  1.58495385044e-08\n",
      "Number of steps = 50001     Percentage = 51.74%     Time = 767s     Leraning rate = 1.22\n"
     ]
    }
   ],
   "source": [
    "reduce_coef = 1.58489\n",
    "optional_feed_dict = {'self.gf': 0.0001}\n",
    "num_iter = 20\n",
    "results_GL = list()\n",
    "for iteration in range(num_iter):\n",
    "    print(\"\\ngate fine: \", optional_feed_dict['self.gf'])\n",
    "    model.simple_run(100,\n",
    "                   'simple_gf/1/variables/1_64_%s' % optional_feed_dict['self.gf'],\n",
    "                   40000,\n",
    "                   4000,\n",
    "                   5000,        #learning has a chance to be stopped after every block of steps\n",
    "                   20,\n",
    "                   0.9,\n",
    "                   3,\n",
    "                   optional_feed_dict=optional_feed_dict)\n",
    "    results_GL.extend(model._results)\n",
    "    optional_feed_dict['self.gf'] /= reduce_coef"
   ]
  },
  {
   "cell_type": "code",
   "execution_count": 9,
   "metadata": {
    "collapsed": true
   },
   "outputs": [],
   "source": [
    "folder_name = 'simple_gf'\n",
    "pickle_file = 'simple_gf_20gfs.pickle'\n",
    "\n",
    "with open(folder_name + '/' + pickle_file, 'rb') as f:\n",
    "  save = pickle.load(f)\n",
    "  results_GL = save['results_GL']\n",
    "  del save  # hint to help gc free up memory"
   ]
  },
  {
   "cell_type": "code",
   "execution_count": 10,
   "metadata": {
    "collapsed": false
   },
   "outputs": [],
   "source": [
    "from plot_module import ComparePlots\n",
    "plot_options = {'x': 'log'}\n",
    "\n",
    "gf_plots = ComparePlots('simple_gf')\n",
    "gf_plots.add_network(results_GL, model._indices)\n",
    "\n"
   ]
  },
  {
   "cell_type": "code",
   "execution_count": 14,
   "metadata": {
    "collapsed": false
   },
   "outputs": [
    {
     "name": "stdout",
     "output_type": "stream",
     "text": [
      "{'layout_variable': None, 'fixed': None, 'data': [{'y': [51.7359375, 51.3484375, 51.365625, 51.9796875, 51.246875, 51.176562499999996, 51.753125000000004, 50.80624999999999, 51.20156250000001, 51.2078125, 51.0546875, 50.839062500000004, 48.826562500000016, 43.740625000000016, 44.28125, 40.65468750000001, 36.6453125, 35.8046875, 32.059375, 31.9765625], 'x': [1.5849538504441023e-08, 2.511977508030353e-08, 3.981208032702226e-08, 6.309776798949431e-08, 1.0000302150886964e-07, 1.584937887591924e-07, 2.511952208665564e-07, 3.981167935991966e-07, 6.309713250074306e-07, 1.0000201432910266e-06, 1.584921924900515e-06, 2.511926909555577e-06, 3.981127839685538e-06, 6.309649701839213e-06, 1.0000100715947949e-05, 1.5849059623698743e-05, 2.51190161070039e-05, 3.9810877437829405e-05, 6.309586154244144e-05, 0.0001], 'layout_value': None}], 'x_variable': ('gate_fine', None), 'several_networks': False}\n",
      "There is no labels on plot\n"
     ]
    },
    {
     "name": "stderr",
     "output_type": "stream",
     "text": [
      "/usr/local/lib/python2.7/dist-packages/matplotlib/font_manager.py:1288: UserWarning: findfont: Font family [u'normal'] not found. Falling back to Bitstream Vera Sans\n",
      "  (prop.get_family(), self.defaultFamily[fontext]))\n"
     ]
    },
    {
     "data": {
      "image/png": "[encoded data removed]",
      "text/plain": [
       "<matplotlib.figure.Figure at 0x7f6fd64e5090>"
      ]
     },
     "metadata": {},
     "output_type": "display_data"
    }
   ],
   "source": [
    "plot_data, _ = gf_plots.one_key_layout_data('simple_gf_1',\n",
    "                                         'gate_fine',\n",
    "                                         None)\n",
    "print(plot_data[0])\n",
    "gf_plots.save_layout(plot_data[0],\n",
    "                    'gate fine effect',\n",
    "                    ['1', 'plots'],\n",
    "                    'nn64;ns40000;hl4000;dc0.9',\n",
    "                     plot_options=plot_options)\n",
    "gf_plots.draw(plot_data[0], 'gate fine effect', plot_options=plot_options)"
   ]
  },
  {
   "cell_type": "code",
   "execution_count": 12,
   "metadata": {
    "collapsed": false
   },
   "outputs": [
    {
     "name": "stdout",
     "output_type": "stream",
     "text": [
      "Pickling simple_gf/simple_gf_20gfs.pickle.\n"
     ]
    }
   ],
   "source": [
    "folder_name = 'simple_gf'\n",
    "file_name = 'simple_gf_20gfs.pickle'\n",
    "force = True\n",
    "pickle_dump = {'results_GL': results_GL}\n",
    "if not os.path.exists(folder_name):\n",
    "    try:\n",
    "        os.makedirs(folder_name)\n",
    "    except Exception as e:\n",
    "        print(\"Unable create folder '%s'\" % folder_name, ':', e)    \n",
    "print('Pickling %s.' % (folder_name + '/' + file_name))\n",
    "try:\n",
    "    with open(folder_name + '/' + file_name, 'wb') as f:\n",
    "        pickle.dump(pickle_dump, f, pickle.HIGHEST_PROTOCOL)\n",
    "except Exception as e:\n",
    "    print('Unable to save data to', file_name, ':', e)"
   ]
  },
  {
   "cell_type": "code",
   "execution_count": 8,
   "metadata": {
    "collapsed": false
   },
   "outputs": [],
   "source": [
    "optional_feed_dict = {'self.gf': 0.00001}\n",
    "text_list, gate_list = model.run_for_analitics(model.get_gates,\n",
    "                                                None,\n",
    "                                                [100, 75, None],\n",
    "                                                [40000,\n",
    "                                                 4000, # loss is calculated with frequency loss_frequency\n",
    "                                                 5000, #learning has a chance to be stopped after every block of steps\n",
    "                                                 20,\n",
    "                                                 0.9,\n",
    "                                                 3,\n",
    "                                                 optional_feed_dict])"
   ]
  },
  {
   "cell_type": "code",
   "execution_count": 9,
   "metadata": {
    "collapsed": false
   },
   "outputs": [
    {
     "name": "stdout",
     "output_type": "stream",
     "text": [
      "text list length:  99\n",
      "gate_list_length:  99\n",
      "gates length:  75\n",
      "gate_shape:  (1, 3, 64)\n"
     ]
    }
   ],
   "source": [
    "print('text list length: ', len(text_list))\n",
    "print('gate_list_length: ', len(gate_list))\n",
    "print('gates length: ', len(gate_list[0]))\n",
    "print('gate_shape: ', gate_list[0][0].shape)"
   ]
  },
  {
   "cell_type": "code",
   "execution_count": 10,
   "metadata": {
    "collapsed": false
   },
   "outputs": [
    {
     "name": "stdout",
     "output_type": "stream",
     "text": [
      "input_list length:  99\n",
      "forget_list length:  99\n"
     ]
    }
   ],
   "source": [
    "input_list = list()\n",
    "forget_list = list()\n",
    "for text_number, text in enumerate(text_list):\n",
    "    input_gate = list()\n",
    "    forget_gate = list()\n",
    "    text_gates = gate_list[text_number]\n",
    "    for text_gate in text_gates:\n",
    "        input_gate.append(np.mean(text_gate[0, 0, :]))\n",
    "        forget_gate.append(np.mean(text_gate[0, 1, :]))\n",
    "    input_list.append(input_gate)\n",
    "    forget_list.append(forget_gate)\n",
    "    #print('input_gate length at %s: ' % text_number, len(input_gate))\n",
    "    #print('forget_gate length at %s: ' % text_number, len(forget_gate))\n",
    "#print('input_list: ', input_list)\n",
    "#print('forget_list: ', forget_list)\n",
    "print('input_list length: ', len(input_list))\n",
    "print('forget_list length: ', len(forget_list))\n"
   ]
  },
  {
   "cell_type": "code",
   "execution_count": 11,
   "metadata": {
    "collapsed": false
   },
   "outputs": [
    {
     "name": "stdout",
     "output_type": "stream",
     "text": [
      "[u'\\n', u'&', u']', u'=', u';', u'}', u'{', u' ', u'.', u'[', u'/', u'|', u')', u'0', u\"'\", u'-', u'_', u'1', u'4', u'8', u'9', u'6', u'7', u'5', u'\\xf3', u'3', u':', u'2', u'(', u',', u'\\xe9']\n"
     ]
    },
    {
     "data": {
      "image/png": "[encoded data removed]",
      "text/plain": [
       "<matplotlib.figure.Figure at 0x7f75ac0e8350>"
      ]
     },
     "metadata": {},
     "output_type": "display_data"
    }
   ],
   "source": [
    "structure_vocabulary_plots(text_list,\n",
    "                           input_list,\n",
    "                           'input gate mean value for letter position and varios chars',\n",
    "                           'mean value',\n",
    "                           ['simple_gf', '1', 'gates'],\n",
    "                           'mean_input',\n",
    "                           show=True)  "
   ]
  },
  {
   "cell_type": "code",
   "execution_count": 12,
   "metadata": {
    "collapsed": false
   },
   "outputs": [
    {
     "name": "stdout",
     "output_type": "stream",
     "text": [
      "[u'4', u'(', u'8', u\"'\", u'/', u'5', u'9', u'0', u'7', u'6', u'3', u'2', u'[', u'{', u'=', u'1', u':', u',', u'\\xf3', u'|', u'\\xe9', u'_', u'&', u'-', u'.', u')', u'}', u']', u'\\n', u' ', u';']\n"
     ]
    },
    {
     "data": {
      "image/png": "[encoded data removed]",
      "text/plain": [
       "<matplotlib.figure.Figure at 0x7f755c9ca510>"
      ]
     },
     "metadata": {},
     "output_type": "display_data"
    }
   ],
   "source": [
    "\n",
    "structure_vocabulary_plots(text_list,\n",
    "                           forget_list,\n",
    "                           'forget gate mean value for letter position and varios chars',\n",
    "                           'mean value',\n",
    "                           ['simple_gf', '1', 'gates'],\n",
    "                           'mean_forget',\n",
    "                           show=True)"
   ]
  },
  {
   "cell_type": "code",
   "execution_count": null,
   "metadata": {
    "collapsed": true
   },
   "outputs": [],
   "source": []
  }
 ],
 "metadata": {
  "kernelspec": {
   "display_name": "Python 2",
   "language": "python",
   "name": "python2"
  },
  "language_info": {
   "codemirror_mode": {
    "name": "ipython",
    "version": 2
   },
   "file_extension": ".py",
   "mimetype": "text/x-python",
   "name": "python",
   "nbconvert_exporter": "python",
   "pygments_lexer": "ipython2",
   "version": "2.7.12"
  }
 },
 "nbformat": 4,
 "nbformat_minor": 1
}
