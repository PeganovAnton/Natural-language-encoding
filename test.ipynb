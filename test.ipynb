{
 "cells": [
  {
   "cell_type": "code",
   "execution_count": 2,
   "metadata": {},
   "outputs": [
    {
     "name": "stdout",
     "output_type": "stream",
     "text": [
      "[array([0, 0], dtype=int32), array([0], dtype=int32), array([0, 0], dtype=int32)]\n",
      "[array([0, 0], dtype=int32), array([0], dtype=int32), array([0, 0], dtype=int32)]\n",
      "[array([0, 0], dtype=int32), array([0], dtype=int32), array([0, 0], dtype=int32)]\n"
     ]
    }
   ],
   "source": [
    "import tensorflow as tf\n",
    "graph = tf.Graph()\n",
    "with graph.as_default():\n",
    "    x = tf.Variable([0, 0], dtype=tf.int32, name=\"x_variable\")\n",
    "    old_val = tf.square(x)\n",
    "    with tf.control_dependencies([old_val]):\n",
    "        new_val = tf.split(x, 2, name=\"split\")\n",
    "\n",
    "with tf.Session(graph=graph) as sess:\n",
    "    writer = tf.summary.FileWriter('test/logging/assign_and_control_dependencies_continueing',\n",
    "                                               graph=graph)\n",
    "    sess.run(tf.global_variables_initializer())\n",
    "\n",
    "    for i in range(3):\n",
    "        print (sess.run([old_val, new_val[0], x]))"
   ]
  },
  {
   "cell_type": "code",
   "execution_count": 14,
   "metadata": {
    "collapsed": true
   },
   "outputs": [],
   "source": [
    "# original from https://blog.metaflow.fr/tensorflow-mutating-variables-and-control-flow-2181dd238e62\n",
    "import tensorflow as tf\n",
    "\n",
    "# I define a \"shape-able\" Variable\n",
    "x = tf.Variable(\n",
    "    [], \n",
    "    dtype=tf.int32,\n",
    "    validate_shape=False, # By \"shape-able\", i mean we don't validate the shape\n",
    "    trainable=False\n",
    ")\n",
    "# I build a new shape and assign it to x\n",
    "concat = tf.concat([x, [0]], 0)\n",
    "assign_op = tf.assign(x, concat, validate_shape=False)\n",
    "\n",
    "with tf.control_dependencies([assign_op]):\n",
    "    # I print x after the assignment\n",
    "    x = tf.Print(x, data=[x, x.read_value()], message=\"x, x_read:\")\n",
    "    # The assign_op is called, but it seems that print statement happens\n",
    "    # before the assignment, that is wrong.\n",
    "\n",
    "with tf.Session() as sess:\n",
    "    sess.run(tf.global_variables_initializer())\n",
    "    for i in range(3):\n",
    "        sess.run(x)\n",
    "\n",
    "# outputs:\n",
    "# x: []   , x_read:  [0]\n",
    "# x: [0]  , x_read:  [0 0]\n",
    "# x: [0 0], x_read:  [0 0 0] "
   ]
  },
  {
   "cell_type": "code",
   "execution_count": null,
   "metadata": {
    "collapsed": true
   },
   "outputs": [],
   "source": [
    "import tensorflow as tf\n",
    "\n",
    "# I define a \"shape-able\" Variable\n",
    "x = tf.Variable(\n",
    "    [], \n",
    "    dtype=tf.int32,\n",
    "    validate_shape=False, # By \"shape-able\", i mean we don't validate the shape\n",
    "    trainable=False\n",
    ")\n",
    "# I build a new shape and assign it to x\n",
    "concat = tf.concat([x, [0]], 0)\n",
    "assign_op = tf.assign(x, concat, validate_shape=False)\n",
    "\n",
    "with tf.control_dependencies([assign_op]):\n",
    "    # I print x after the assignment\n",
    "    y = tf.square(x)\n",
    "    x = tf.Print(x, data=[y, x, x.read_value()], message=\"y, x, x_read:\")\n",
    "    # The assign_op is called, but it seems that print statement happens\n",
    "    # before the assignment, that is wrong.\n",
    "\n",
    "with tf.Session() as sess:\n",
    "    sess.run(tf.global_variables_initializer())\n",
    "    for i in range(3):\n",
    "        sess.run(x)\n",
    "\n",
    "# outputs:\n",
    "# x: []   , x_read:  [0]\n",
    "# x: [0]  , x_read:  [0 0]\n",
    "# x: [0 0], x_read:  [0 0 0] "
   ]
  },
  {
   "cell_type": "code",
   "execution_count": 1,
   "metadata": {},
   "outputs": [
    {
     "name": "stdout",
     "output_type": "stream",
     "text": [
      "[array([ 0.69314718], dtype=float32)]\n",
      "[array([ 0.69314718], dtype=float32)]\n",
      "[array([ 0.69314718], dtype=float32)]\n"
     ]
    }
   ],
   "source": [
    "import tensorflow as tf\n",
    "graph = tf.Graph()\n",
    "with graph.as_default():\n",
    "    logits = tf.constant([[1., 1.]], name=\"logits\")\n",
    "    labels = tf.constant([[1, 0]], name='labels')\n",
    "    entropy=tf.nn.softmax_cross_entropy_with_logits(labels=labels,\n",
    "                                                                                            logits=logits,\n",
    "                                                                                            name=\"cross_entropy\")\n",
    "with tf.Session(graph=graph) as sess:\n",
    "    writer = tf.summary.FileWriter('test/logging/entropy',\n",
    "                                               graph=graph)\n",
    "    sess.run(tf.global_variables_initializer())\n",
    "\n",
    "    print (sess.run([entropy]))"
   ]
  },
  {
   "cell_type": "code",
   "execution_count": null,
   "metadata": {
    "collapsed": true
   },
   "outputs": [],
   "source": []
  }
 ],
 "metadata": {
  "kernelspec": {
   "display_name": "Python 3",
   "language": "python",
   "name": "python3"
  },
  "language_info": {
   "codemirror_mode": {
    "name": "ipython",
    "version": 3
   },
   "file_extension": ".py",
   "mimetype": "text/x-python",
   "name": "python",
   "nbconvert_exporter": "python",
   "pygments_lexer": "ipython3",
   "version": "3.5.2"
  }
 },
 "nbformat": 4,
 "nbformat_minor": 2
}
