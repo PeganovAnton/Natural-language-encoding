{
 "cells": [
  {
   "cell_type": "code",
   "execution_count": 13,
   "metadata": {
    "collapsed": true,
    "scrolled": true
   },
   "outputs": [],
   "source": [
    "from PIL import Image, ImageDraw, ImageFont\n",
    "#import ImageDraw\n",
    "#import ImageFont\n",
    "import os\n",
    "\n",
    "os.chdir('/usr/share/fonts/truetype/freefont/')\n",
    "def getSize(txt, font):\n",
    "    testImg = Image.new('RGB', (1, 1))\n",
    "    testDraw = ImageDraw.Draw(testImg)\n",
    "    return testDraw.textsize(txt, font)\n",
    "\n",
    "if __name__ == '__main__':\n",
    "\n",
    "    fontname = \"FreeSans.ttf\"\n",
    "    fontsize = 20 \n",
    "    text = \"example@gmail.com\"\n",
    "\n",
    "    colorText = \"black\"\n",
    "    colorOutline = \"red\"\n",
    "    colorBackground = \"white\"\n",
    "\n",
    "    #font = ImageFont.load_path(\"/usr/share/fonts/truetype/freefont/FreeSans.ttf\")\n",
    "    font = ImageFont.truetype(fontname, fontsize)\n",
    "    width, height = getSize(text, font)\n",
    "    img = Image.new('RGB', (width+10, height+10), colorBackground)\n",
    "    d = ImageDraw.Draw(img)\n",
    "    d.text((2, 2), text, fill=colorText, font=font)\n",
    "    d.rectangle((0, 0, width+3, height+3), outline=colorOutline)\n",
    "\n",
    "    img.save(\"/home/anton/image.png\")"
   ]
  },
  {
   "cell_type": "code",
   "execution_count": 2,
   "metadata": {
    "scrolled": true
   },
   "outputs": [
    {
     "ename": "FileNotFoundError",
     "evalue": "[Errno 2] No such file or directory: 'arial.pil'",
     "output_type": "error",
     "traceback": [
      "\u001b[0;31m---------------------------------------------------------------------------\u001b[0m",
      "\u001b[0;31mFileNotFoundError\u001b[0m                         Traceback (most recent call last)",
      "\u001b[0;32m<ipython-input-2-3d1605ffa9d4>\u001b[0m in \u001b[0;36m<module>\u001b[0;34m()\u001b[0m\n\u001b[1;32m      4\u001b[0m \u001b[0;34m\u001b[0m\u001b[0m\n\u001b[1;32m      5\u001b[0m \u001b[0;31m# use a bitmap font\u001b[0m\u001b[0;34m\u001b[0m\u001b[0;34m\u001b[0m\u001b[0m\n\u001b[0;32m----> 6\u001b[0;31m \u001b[0mfont\u001b[0m \u001b[0;34m=\u001b[0m \u001b[0mImageFont\u001b[0m\u001b[0;34m.\u001b[0m\u001b[0mload\u001b[0m\u001b[0;34m(\u001b[0m\u001b[0;34m\"arial.pil\"\u001b[0m\u001b[0;34m)\u001b[0m\u001b[0;34m\u001b[0m\u001b[0m\n\u001b[0m\u001b[1;32m      7\u001b[0m \u001b[0;34m\u001b[0m\u001b[0m\n\u001b[1;32m      8\u001b[0m \u001b[0mdraw\u001b[0m\u001b[0;34m.\u001b[0m\u001b[0mtext\u001b[0m\u001b[0;34m(\u001b[0m\u001b[0;34m(\u001b[0m\u001b[0;36m10\u001b[0m\u001b[0;34m,\u001b[0m \u001b[0;36m10\u001b[0m\u001b[0;34m)\u001b[0m\u001b[0;34m,\u001b[0m \u001b[0;34m\"hello\"\u001b[0m\u001b[0;34m,\u001b[0m \u001b[0mfont\u001b[0m\u001b[0;34m=\u001b[0m\u001b[0mfont\u001b[0m\u001b[0;34m)\u001b[0m\u001b[0;34m\u001b[0m\u001b[0m\n",
      "\u001b[0;32m/usr/lib/python3/dist-packages/PIL/ImageFont.py\u001b[0m in \u001b[0;36mload\u001b[0;34m(filename)\u001b[0m\n\u001b[1;32m    210\u001b[0m     \"\"\"\n\u001b[1;32m    211\u001b[0m     \u001b[0mf\u001b[0m \u001b[0;34m=\u001b[0m \u001b[0mImageFont\u001b[0m\u001b[0;34m(\u001b[0m\u001b[0;34m)\u001b[0m\u001b[0;34m\u001b[0m\u001b[0m\n\u001b[0;32m--> 212\u001b[0;31m     \u001b[0mf\u001b[0m\u001b[0;34m.\u001b[0m\u001b[0m_load_pilfont\u001b[0m\u001b[0;34m(\u001b[0m\u001b[0mfilename\u001b[0m\u001b[0;34m)\u001b[0m\u001b[0;34m\u001b[0m\u001b[0m\n\u001b[0m\u001b[1;32m    213\u001b[0m     \u001b[0;32mreturn\u001b[0m \u001b[0mf\u001b[0m\u001b[0;34m\u001b[0m\u001b[0m\n\u001b[1;32m    214\u001b[0m \u001b[0;34m\u001b[0m\u001b[0m\n",
      "\u001b[0;32m/usr/lib/python3/dist-packages/PIL/ImageFont.py\u001b[0m in \u001b[0;36m_load_pilfont\u001b[0;34m(self, filename)\u001b[0m\n\u001b[1;32m     63\u001b[0m     \u001b[0;32mdef\u001b[0m \u001b[0m_load_pilfont\u001b[0m\u001b[0;34m(\u001b[0m\u001b[0mself\u001b[0m\u001b[0;34m,\u001b[0m \u001b[0mfilename\u001b[0m\u001b[0;34m)\u001b[0m\u001b[0;34m:\u001b[0m\u001b[0;34m\u001b[0m\u001b[0m\n\u001b[1;32m     64\u001b[0m \u001b[0;34m\u001b[0m\u001b[0m\n\u001b[0;32m---> 65\u001b[0;31m         \u001b[0mfp\u001b[0m \u001b[0;34m=\u001b[0m \u001b[0mopen\u001b[0m\u001b[0;34m(\u001b[0m\u001b[0mfilename\u001b[0m\u001b[0;34m,\u001b[0m \u001b[0;34m\"rb\"\u001b[0m\u001b[0;34m)\u001b[0m\u001b[0;34m\u001b[0m\u001b[0m\n\u001b[0m\u001b[1;32m     66\u001b[0m \u001b[0;34m\u001b[0m\u001b[0m\n\u001b[1;32m     67\u001b[0m         \u001b[0;32mfor\u001b[0m \u001b[0mext\u001b[0m \u001b[0;32min\u001b[0m \u001b[0;34m(\u001b[0m\u001b[0;34m\".png\"\u001b[0m\u001b[0;34m,\u001b[0m \u001b[0;34m\".gif\"\u001b[0m\u001b[0;34m,\u001b[0m \u001b[0;34m\".pbm\"\u001b[0m\u001b[0;34m)\u001b[0m\u001b[0;34m:\u001b[0m\u001b[0;34m\u001b[0m\u001b[0m\n",
      "\u001b[0;31mFileNotFoundError\u001b[0m: [Errno 2] No such file or directory: 'arial.pil'"
     ]
    }
   ],
   "source": [
    "from PIL import ImageFont, ImageDraw\n",
    "\n",
    "#draw = ImageDraw.Draw(image)\n",
    "\n",
    "# use a bitmap font\n",
    "font = ImageFont.load(\"arial.pil\")\n",
    "\n",
    "draw.text((10, 10), \"hello\", font=font)\n",
    "\n",
    "# use a truetype font\n",
    "font = ImageFont.truetype(\"arial.ttf\", 15)\n",
    "\n",
    "draw.text((10, 25), \"world\", font=font)"
   ]
  },
  {
   "cell_type": "code",
   "execution_count": 4,
   "metadata": {},
   "outputs": [
    {
     "ename": "FileNotFoundError",
     "evalue": "[Errno 2] No such file or directory: 'arial.pil'",
     "output_type": "error",
     "traceback": [
      "\u001b[0;31m---------------------------------------------------------------------------\u001b[0m",
      "\u001b[0;31mFileNotFoundError\u001b[0m                         Traceback (most recent call last)",
      "\u001b[0;32m<ipython-input-4-0bb0040f4cb8>\u001b[0m in \u001b[0;36m<module>\u001b[0;34m()\u001b[0m\n\u001b[0;32m----> 1\u001b[0;31m \u001b[0mfont\u001b[0m \u001b[0;34m=\u001b[0m \u001b[0mImageFont\u001b[0m\u001b[0;34m.\u001b[0m\u001b[0mload\u001b[0m\u001b[0;34m(\u001b[0m\u001b[0;34m\"arial.pil\"\u001b[0m\u001b[0;34m)\u001b[0m\u001b[0;34m\u001b[0m\u001b[0m\n\u001b[0m",
      "\u001b[0;32m/usr/lib/python3/dist-packages/PIL/ImageFont.py\u001b[0m in \u001b[0;36mload\u001b[0;34m(filename)\u001b[0m\n\u001b[1;32m    210\u001b[0m     \"\"\"\n\u001b[1;32m    211\u001b[0m     \u001b[0mf\u001b[0m \u001b[0;34m=\u001b[0m \u001b[0mImageFont\u001b[0m\u001b[0;34m(\u001b[0m\u001b[0;34m)\u001b[0m\u001b[0;34m\u001b[0m\u001b[0m\n\u001b[0;32m--> 212\u001b[0;31m     \u001b[0mf\u001b[0m\u001b[0;34m.\u001b[0m\u001b[0m_load_pilfont\u001b[0m\u001b[0;34m(\u001b[0m\u001b[0mfilename\u001b[0m\u001b[0;34m)\u001b[0m\u001b[0;34m\u001b[0m\u001b[0m\n\u001b[0m\u001b[1;32m    213\u001b[0m     \u001b[0;32mreturn\u001b[0m \u001b[0mf\u001b[0m\u001b[0;34m\u001b[0m\u001b[0m\n\u001b[1;32m    214\u001b[0m \u001b[0;34m\u001b[0m\u001b[0m\n",
      "\u001b[0;32m/usr/lib/python3/dist-packages/PIL/ImageFont.py\u001b[0m in \u001b[0;36m_load_pilfont\u001b[0;34m(self, filename)\u001b[0m\n\u001b[1;32m     63\u001b[0m     \u001b[0;32mdef\u001b[0m \u001b[0m_load_pilfont\u001b[0m\u001b[0;34m(\u001b[0m\u001b[0mself\u001b[0m\u001b[0;34m,\u001b[0m \u001b[0mfilename\u001b[0m\u001b[0;34m)\u001b[0m\u001b[0;34m:\u001b[0m\u001b[0;34m\u001b[0m\u001b[0m\n\u001b[1;32m     64\u001b[0m \u001b[0;34m\u001b[0m\u001b[0m\n\u001b[0;32m---> 65\u001b[0;31m         \u001b[0mfp\u001b[0m \u001b[0;34m=\u001b[0m \u001b[0mopen\u001b[0m\u001b[0;34m(\u001b[0m\u001b[0mfilename\u001b[0m\u001b[0;34m,\u001b[0m \u001b[0;34m\"rb\"\u001b[0m\u001b[0;34m)\u001b[0m\u001b[0;34m\u001b[0m\u001b[0m\n\u001b[0m\u001b[1;32m     66\u001b[0m \u001b[0;34m\u001b[0m\u001b[0m\n\u001b[1;32m     67\u001b[0m         \u001b[0;32mfor\u001b[0m \u001b[0mext\u001b[0m \u001b[0;32min\u001b[0m \u001b[0;34m(\u001b[0m\u001b[0;34m\".png\"\u001b[0m\u001b[0;34m,\u001b[0m \u001b[0;34m\".gif\"\u001b[0m\u001b[0;34m,\u001b[0m \u001b[0;34m\".pbm\"\u001b[0m\u001b[0;34m)\u001b[0m\u001b[0;34m:\u001b[0m\u001b[0;34m\u001b[0m\u001b[0m\n",
      "\u001b[0;31mFileNotFoundError\u001b[0m: [Errno 2] No such file or directory: 'arial.pil'"
     ]
    }
   ],
   "source": [
    "font = ImageFont.load(\"arial.pil\")"
   ]
  },
  {
   "cell_type": "code",
   "execution_count": 1,
   "metadata": {
    "collapsed": true
   },
   "outputs": [],
   "source": [
    "from PIL import Image, ImageDraw, ImageFont\n",
    "from six.moves import cPickle as pickle\n",
    "#import ImageDraw\n",
    "#import ImageFont\n",
    "import os\n",
    "\n",
    "os.chdir('/usr/share/fonts/truetype/freefont/')\n",
    "def getSize(txt, font):\n",
    "    testImg = Image.new('RGB', (1, 1))\n",
    "    testDraw = ImageDraw.Draw(testImg)\n",
    "    return testDraw.textsize(txt, font)"
   ]
  },
  {
   "cell_type": "code",
   "execution_count": 3,
   "metadata": {
    "collapsed": true,
    "scrolled": true
   },
   "outputs": [],
   "source": [
    "folder_name = '/home/anton/Natural-language-encoding/HM_LSTM_res/server/HM_LSTM3/HM_LSTM3_init'\n",
    "#folder_name = 'Natural-language-encoding'\n",
    "pickle_file = 'HM_LSTM3_init.pickle'\n",
    "\n",
    "with open(folder_name + '/' + pickle_file, 'rb') as f:\n",
    "  #with open(folder_name, 'rb') as f:\n",
    "  save = pickle.load(f)\n",
    "  results_GL = save['results_GL']\n",
    "  del save  # hint to help gc free up memory"
   ]
  },
  {
   "cell_type": "code",
   "execution_count": null,
   "metadata": {
    "collapsed": true
   },
   "outputs": [],
   "source": [
    "directory_pattern = 'ip%s_imp%s#%s'\n",
    "string_pattern = \"number of run: %s\\npercentage of correct: %.1f%%\\nBPC: %.2f\\nperplexity: %.2f\""
   ]
  },
  {
   "cell_type": "code",
   "execution_count": 10,
   "metadata": {
    "collapsed": true
   },
   "outputs": [],
   "source": [
    "directory_pattern = 'ip%s_imp%s'\n",
    "string_pattern = \"init_parameter: %s\\nmatr_init_parameter: %s\\npercentage of correct: %.1f%%\\nBPC: %.2f\\nperplexity: %.2f\""
   ]
  },
  {
   "cell_type": "code",
   "execution_count": 11,
   "metadata": {
    "collapsed": true
   },
   "outputs": [],
   "source": [
    "\n",
    "\n",
    "image_name_pattern = directory_pattern + '.png'\n",
    "indices = {\"batch_size\": 0,\n",
    "           \"num_unrollings\": 1,\n",
    "           \"num_layers\": 2,\n",
    "           \"num_nodes\": 3,\n",
    "           \"half_life\": 4,\n",
    "           \"decay\": 5,\n",
    "           \"num_steps\": 6,\n",
    "           \"averaging_number\": 7,\n",
    "           \"init_slope\": 8,\n",
    "           \"slope_growth\": 9,\n",
    "           \"slope_half_life\": 10,\n",
    "           \"embedding_size\": 11,\n",
    "           \"output_embedding_size\": 12,\n",
    "           \"init_parameter\": 13,\n",
    "           \"matr_init_parameter\": 14,\n",
    "           \"init_bias\":15,\n",
    "           \"type\": 16}"
   ]
  },
  {
   "cell_type": "code",
   "execution_count": 8,
   "metadata": {},
   "outputs": [
    {
     "ename": "TypeError",
     "evalue": "not all arguments converted during string formatting",
     "output_type": "error",
     "traceback": [
      "\u001b[0;31m---------------------------------------------------------------------------\u001b[0m",
      "\u001b[0;31mTypeError\u001b[0m                                 Traceback (most recent call last)",
      "\u001b[0;32m<ipython-input-8-54d7907bfc0a>\u001b[0m in \u001b[0;36m<module>\u001b[0;34m()\u001b[0m\n\u001b[1;32m      5\u001b[0m     \u001b[0mBPC\u001b[0m \u001b[0;34m=\u001b[0m \u001b[0mresult\u001b[0m\u001b[0;34m[\u001b[0m\u001b[0;34m'data'\u001b[0m\u001b[0;34m]\u001b[0m\u001b[0;34m[\u001b[0m\u001b[0;34m'train'\u001b[0m\u001b[0;34m]\u001b[0m\u001b[0;34m[\u001b[0m\u001b[0;34m'BPC'\u001b[0m\u001b[0;34m]\u001b[0m\u001b[0;34m[\u001b[0m\u001b[0;34m-\u001b[0m\u001b[0;36m1\u001b[0m\u001b[0;34m]\u001b[0m\u001b[0;34m\u001b[0m\u001b[0m\n\u001b[1;32m      6\u001b[0m     \u001b[0mperplexity\u001b[0m \u001b[0;34m=\u001b[0m \u001b[0mresult\u001b[0m\u001b[0;34m[\u001b[0m\u001b[0;34m'data'\u001b[0m\u001b[0;34m]\u001b[0m\u001b[0;34m[\u001b[0m\u001b[0;34m'train'\u001b[0m\u001b[0;34m]\u001b[0m\u001b[0;34m[\u001b[0m\u001b[0;34m'perplexity'\u001b[0m\u001b[0;34m]\u001b[0m\u001b[0;34m[\u001b[0m\u001b[0;34m-\u001b[0m\u001b[0;36m1\u001b[0m\u001b[0;34m]\u001b[0m\u001b[0;34m\u001b[0m\u001b[0m\n\u001b[0;32m----> 7\u001b[0;31m     \u001b[0mdirectory_name\u001b[0m \u001b[0;34m=\u001b[0m \u001b[0mdirectory_pattern\u001b[0m \u001b[0;34m%\u001b[0m \u001b[0;34m(\u001b[0m\u001b[0mip\u001b[0m\u001b[0;34m,\u001b[0m \u001b[0mimp\u001b[0m\u001b[0;34m,\u001b[0m \u001b[0mrun_number\u001b[0m\u001b[0;34m)\u001b[0m\u001b[0;34m\u001b[0m\u001b[0m\n\u001b[0m\u001b[1;32m      8\u001b[0m     \u001b[0mstring\u001b[0m \u001b[0;34m=\u001b[0m \u001b[0mstring_pattern\u001b[0m \u001b[0;34m%\u001b[0m \u001b[0;34m(\u001b[0m\u001b[0mrun_number\u001b[0m\u001b[0;34m,\u001b[0m \u001b[0mpercentage_of_correct\u001b[0m\u001b[0;34m,\u001b[0m \u001b[0mBPC\u001b[0m\u001b[0;34m,\u001b[0m \u001b[0mperplexity\u001b[0m\u001b[0;34m)\u001b[0m\u001b[0;34m\u001b[0m\u001b[0m\n\u001b[1;32m      9\u001b[0m     \u001b[0mimage_name\u001b[0m \u001b[0;34m=\u001b[0m \u001b[0mdirectory_name\u001b[0m \u001b[0;34m+\u001b[0m \u001b[0;34m'text.png'\u001b[0m\u001b[0;34m\u001b[0m\u001b[0m\n",
      "\u001b[0;31mTypeError\u001b[0m: not all arguments converted during string formatting"
     ]
    }
   ],
   "source": [
    "for run_number, result in enumerate(results_GL):\n",
    "    ip = result['metadata'][indices['init_parameter']]\n",
    "    imp = result['metadata'][indices['matr_init_parameter']]\n",
    "    percentage_of_correct = result['data']['train']['percentage'][-1]\n",
    "    BPC = result['data']['train']['BPC'][-1]\n",
    "    perplexity = result['data']['train']['perplexity'][-1]\n",
    "    directory_name = directory_pattern % (ip, imp, run_number)\n",
    "    string = string_pattern % (run_number, percentage_of_correct, BPC, perplexity)\n",
    "    image_name = directory_name + 'text.png'\n",
    "    path = folder_name + '/' + directory_name + '/' + image_name\n",
    "    \n",
    "    fontname = \"FreeSans.ttf\"\n",
    "    fontsize = 40 \n",
    "    colorText = \"black\"\n",
    "    colorBackground = \"white\"\n",
    "    \n",
    "    font = ImageFont.truetype(fontname, fontsize)\n",
    "    width, height = getSize(string, font)\n",
    "    \n",
    "    width = max(width + 0.2*width, 1000)\n",
    "    img = Image.new('RGB', (width, height+10), colorBackground)\n",
    "    d = ImageDraw.Draw(img)\n",
    "    d.text((width // 10, 5), string, fill=colorText, font=font)\n",
    "    #d.rectangle((0, 0, width+3, height+3), outline=colorOutline)\n",
    "    print(path)\n",
    "    img.save(path)\n",
    "    "
   ]
  },
  {
   "cell_type": "code",
   "execution_count": 12,
   "metadata": {},
   "outputs": [
    {
     "name": "stdout",
     "output_type": "stream",
     "text": [
      "/home/anton/Natural-language-encoding/HM_LSTM_res/server/HM_LSTM3/HM_LSTM3_init/ip0.0001_imp50/ip0.0001_imp50text.png\n",
      "/home/anton/Natural-language-encoding/HM_LSTM_res/server/HM_LSTM3/HM_LSTM3_init/ip0.0001_imp100/ip0.0001_imp100text.png\n",
      "/home/anton/Natural-language-encoding/HM_LSTM_res/server/HM_LSTM3/HM_LSTM3_init/ip0.0001_imp1000/ip0.0001_imp1000text.png\n",
      "/home/anton/Natural-language-encoding/HM_LSTM_res/server/HM_LSTM3/HM_LSTM3_init/ip0.0001_imp10000/ip0.0001_imp10000text.png\n",
      "/home/anton/Natural-language-encoding/HM_LSTM_res/server/HM_LSTM3/HM_LSTM3_init/ip0.0001_imp100000/ip0.0001_imp100000text.png\n",
      "/home/anton/Natural-language-encoding/HM_LSTM_res/server/HM_LSTM3/HM_LSTM3_init/ip0.0001_imp1000000/ip0.0001_imp1000000text.png\n",
      "/home/anton/Natural-language-encoding/HM_LSTM_res/server/HM_LSTM3/HM_LSTM3_init/ip1e-05_imp50/ip1e-05_imp50text.png\n",
      "/home/anton/Natural-language-encoding/HM_LSTM_res/server/HM_LSTM3/HM_LSTM3_init/ip1e-05_imp100/ip1e-05_imp100text.png\n",
      "/home/anton/Natural-language-encoding/HM_LSTM_res/server/HM_LSTM3/HM_LSTM3_init/ip1e-05_imp1000/ip1e-05_imp1000text.png\n",
      "/home/anton/Natural-language-encoding/HM_LSTM_res/server/HM_LSTM3/HM_LSTM3_init/ip1e-05_imp10000/ip1e-05_imp10000text.png\n",
      "/home/anton/Natural-language-encoding/HM_LSTM_res/server/HM_LSTM3/HM_LSTM3_init/ip1e-05_imp100000/ip1e-05_imp100000text.png\n",
      "/home/anton/Natural-language-encoding/HM_LSTM_res/server/HM_LSTM3/HM_LSTM3_init/ip1e-05_imp1000000/ip1e-05_imp1000000text.png\n",
      "/home/anton/Natural-language-encoding/HM_LSTM_res/server/HM_LSTM3/HM_LSTM3_init/ip1e-06_imp50/ip1e-06_imp50text.png\n",
      "/home/anton/Natural-language-encoding/HM_LSTM_res/server/HM_LSTM3/HM_LSTM3_init/ip1e-06_imp100/ip1e-06_imp100text.png\n",
      "/home/anton/Natural-language-encoding/HM_LSTM_res/server/HM_LSTM3/HM_LSTM3_init/ip1e-06_imp1000/ip1e-06_imp1000text.png\n",
      "/home/anton/Natural-language-encoding/HM_LSTM_res/server/HM_LSTM3/HM_LSTM3_init/ip1e-06_imp10000/ip1e-06_imp10000text.png\n",
      "/home/anton/Natural-language-encoding/HM_LSTM_res/server/HM_LSTM3/HM_LSTM3_init/ip1e-06_imp100000/ip1e-06_imp100000text.png\n",
      "/home/anton/Natural-language-encoding/HM_LSTM_res/server/HM_LSTM3/HM_LSTM3_init/ip1e-06_imp1000000/ip1e-06_imp1000000text.png\n",
      "/home/anton/Natural-language-encoding/HM_LSTM_res/server/HM_LSTM3/HM_LSTM3_init/ip1e-07_imp50/ip1e-07_imp50text.png\n",
      "/home/anton/Natural-language-encoding/HM_LSTM_res/server/HM_LSTM3/HM_LSTM3_init/ip1e-07_imp100/ip1e-07_imp100text.png\n",
      "/home/anton/Natural-language-encoding/HM_LSTM_res/server/HM_LSTM3/HM_LSTM3_init/ip1e-07_imp1000/ip1e-07_imp1000text.png\n",
      "/home/anton/Natural-language-encoding/HM_LSTM_res/server/HM_LSTM3/HM_LSTM3_init/ip1e-07_imp10000/ip1e-07_imp10000text.png\n",
      "/home/anton/Natural-language-encoding/HM_LSTM_res/server/HM_LSTM3/HM_LSTM3_init/ip1e-07_imp100000/ip1e-07_imp100000text.png\n",
      "/home/anton/Natural-language-encoding/HM_LSTM_res/server/HM_LSTM3/HM_LSTM3_init/ip1e-07_imp1000000/ip1e-07_imp1000000text.png\n",
      "/home/anton/Natural-language-encoding/HM_LSTM_res/server/HM_LSTM3/HM_LSTM3_init/ip1e-08_imp50/ip1e-08_imp50text.png\n",
      "/home/anton/Natural-language-encoding/HM_LSTM_res/server/HM_LSTM3/HM_LSTM3_init/ip1e-08_imp100/ip1e-08_imp100text.png\n",
      "/home/anton/Natural-language-encoding/HM_LSTM_res/server/HM_LSTM3/HM_LSTM3_init/ip1e-08_imp1000/ip1e-08_imp1000text.png\n",
      "/home/anton/Natural-language-encoding/HM_LSTM_res/server/HM_LSTM3/HM_LSTM3_init/ip1e-08_imp10000/ip1e-08_imp10000text.png\n",
      "/home/anton/Natural-language-encoding/HM_LSTM_res/server/HM_LSTM3/HM_LSTM3_init/ip1e-08_imp100000/ip1e-08_imp100000text.png\n",
      "/home/anton/Natural-language-encoding/HM_LSTM_res/server/HM_LSTM3/HM_LSTM3_init/ip1e-08_imp1000000/ip1e-08_imp1000000text.png\n",
      "/home/anton/Natural-language-encoding/HM_LSTM_res/server/HM_LSTM3/HM_LSTM3_init/ip1e-09_imp50/ip1e-09_imp50text.png\n",
      "/home/anton/Natural-language-encoding/HM_LSTM_res/server/HM_LSTM3/HM_LSTM3_init/ip1e-09_imp100/ip1e-09_imp100text.png\n",
      "/home/anton/Natural-language-encoding/HM_LSTM_res/server/HM_LSTM3/HM_LSTM3_init/ip1e-09_imp1000/ip1e-09_imp1000text.png\n",
      "/home/anton/Natural-language-encoding/HM_LSTM_res/server/HM_LSTM3/HM_LSTM3_init/ip1e-09_imp10000/ip1e-09_imp10000text.png\n",
      "/home/anton/Natural-language-encoding/HM_LSTM_res/server/HM_LSTM3/HM_LSTM3_init/ip1e-09_imp100000/ip1e-09_imp100000text.png\n",
      "/home/anton/Natural-language-encoding/HM_LSTM_res/server/HM_LSTM3/HM_LSTM3_init/ip1e-09_imp1000000/ip1e-09_imp1000000text.png\n"
     ]
    }
   ],
   "source": [
    "for run_number, result in enumerate(results_GL):\n",
    "    ip = result['metadata'][indices['init_parameter']]\n",
    "    imp = result['metadata'][indices['matr_init_parameter']]\n",
    "    percentage_of_correct = result['data']['train']['percentage'][-1]\n",
    "    BPC = result['data']['train']['BPC'][-1]\n",
    "    perplexity = result['data']['train']['perplexity'][-1]\n",
    "    directory_name = directory_pattern % (ip, imp)\n",
    "    string = string_pattern % (ip, imp, percentage_of_correct, BPC, perplexity)\n",
    "    image_name = directory_name + 'text.png'\n",
    "    path = folder_name + '/' + directory_name + '/' + image_name\n",
    "    \n",
    "    fontname = \"FreeSans.ttf\"\n",
    "    fontsize = 40 \n",
    "    colorText = \"black\"\n",
    "    colorBackground = \"white\"\n",
    "    \n",
    "    font = ImageFont.truetype(fontname, fontsize)\n",
    "    width, height = getSize(string, font)\n",
    "    \n",
    "    width = max(width + 0.2*width, 1000)\n",
    "    img = Image.new('RGB', (width, height+10), colorBackground)\n",
    "    d = ImageDraw.Draw(img)\n",
    "    d.text((width // 10, 5), string, fill=colorText, font=font)\n",
    "    #d.rectangle((0, 0, width+3, height+3), outline=colorOutline)\n",
    "    print(path)\n",
    "    img.save(path)"
   ]
  },
  {
   "cell_type": "code",
   "execution_count": 4,
   "metadata": {},
   "outputs": [
    {
     "name": "stdout",
     "output_type": "stream",
     "text": [
      "/home/anton/Natural-language-encoding/HM_LSTM_res/server/effectiveness_report/HM_LSTM_fixed.png\n"
     ]
    }
   ],
   "source": [
    "folder_name = '/home/anton/Natural-language-encoding/HM_LSTM_res/server/effectiveness_report'\n",
    "string = 'HM_LSTM_fixed boundary states. White is for FLUSH'\n",
    "image_name = 'HM_LSTM_fixed.png'\n",
    "path = folder_name + '/'  + image_name\n",
    "    \n",
    "fontname = \"FreeSans.ttf\"\n",
    "fontsize = 40 \n",
    "colorText = \"black\"\n",
    "colorBackground = \"white\"\n",
    "    \n",
    "font = ImageFont.truetype(fontname, fontsize)\n",
    "width, height = getSize(string, font)\n",
    "    \n",
    "width = int(max(width + 0.2*width, 1000))\n",
    "img = Image.new('RGB', (width, height+10), colorBackground)\n",
    "d = ImageDraw.Draw(img)\n",
    "d.text((width // 10, 5), string, fill=colorText, font=font)\n",
    "    #d.rectangle((0, 0, width+3, height+3), outline=colorOutline)\n",
    "print(path)\n",
    "img.save(path)"
   ]
  },
  {
   "cell_type": "code",
   "execution_count": null,
   "metadata": {
    "collapsed": true
   },
   "outputs": [],
   "source": []
  }
 ],
 "metadata": {
  "kernelspec": {
   "display_name": "Python 3",
   "language": "python",
   "name": "python3"
  },
  "language_info": {
   "codemirror_mode": {
    "name": "ipython",
    "version": 3
   },
   "file_extension": ".py",
   "mimetype": "text/x-python",
   "name": "python",
   "nbconvert_exporter": "python",
   "pygments_lexer": "ipython3",
   "version": "3.5.2"
  }
 },
 "nbformat": 4,
 "nbformat_minor": 2
}
